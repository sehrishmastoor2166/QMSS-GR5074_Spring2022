{
  "nbformat": 4,
  "nbformat_minor": 0,
  "metadata": {
    "colab": {
      "name": "Kopie von [COVID Tweets] Model Submission Guide - keras.ipynb",
      "provenance": [],
      "collapsed_sections": []
    },
    "kernelspec": {
      "name": "python3",
      "display_name": "Python 3"
    },
    "language_info": {
      "name": "python"
    }
  },
  "cells": [
    {
      "cell_type": "markdown",
      "source": [
        "<p align=\"center\"><img width=\"50%\" src=\"https://aimodelsharecontent.s3.amazonaws.com/aimodshare_banner.jpg\" /></p>\n",
        "\n",
        "\n",
        "---"
      ],
      "metadata": {
        "id": "vVFTG0FjBykl"
      }
    },
    {
      "cell_type": "markdown",
      "metadata": {
        "id": "JXxGTgJz152A"
      },
      "source": [
        "## Covid Tweet Misinformation Prediction Competition\n",
        "Let's share our models to a centralized leaderboard, so that we can collaborate and learn from the model experimentation process...\n",
        "\n",
        "**Instructions:**\n",
        "1.   Get data in and set up X_train / X_test / y_train\n",
        "2.   Preprocess data using keras Tokenizer/ Write and Save Preprocessor function\n",
        "3. Fit model on preprocessed data and save preprocessor function and model \n",
        "4. Generate predictions from X_test data and submit model to competition\n",
        "5. Repeat submission process to improve place on leaderboard\n",
        "\n"
      ]
    },
    {
      "cell_type": "markdown",
      "metadata": {
        "id": "5gSrVJwp3E9H"
      },
      "source": [
        "## 1. Get data in and set up X_train, X_test, y_train objects"
      ]
    },
    {
      "cell_type": "code",
      "metadata": {
        "id": "PLTIaMB3ChSW"
      },
      "source": [
        "#install aimodelshare library\n",
        "! pip install aimodelshare --upgrade"
      ],
      "execution_count": null,
      "outputs": []
    },
    {
      "cell_type": "code",
      "metadata": {
        "colab": {
          "base_uri": "https://localhost:8080/"
        },
        "id": "d3PiJXBhC5y-",
        "outputId": "5b2fc26e-1213-4852-9782-2d22c17ca282"
      },
      "source": [
        "# Get competition data\n",
        "from aimodelshare import download_data\n",
        "download_data('public.ecr.aws/y2e2a1d6/covid_tweet_competition_data-repository:latest') "
      ],
      "execution_count": null,
      "outputs": [
        {
          "output_type": "stream",
          "name": "stdout",
          "text": [
            "Downloading [======================================>          ]\n",
            "\n",
            "Data downloaded successfully.\n"
          ]
        }
      ]
    },
    {
      "cell_type": "code",
      "metadata": {
        "colab": {
          "base_uri": "https://localhost:8080/"
        },
        "id": "jT0qFCZFNzHq",
        "outputId": "f037e4b9-114c-44b3-cf17-5bd22ce8c0a3"
      },
      "source": [
        "# Set up X_train, X_test, and y_train_labels objects\n",
        "import pandas as pd\n",
        "X_train=pd.read_csv(\"covid_tweet_competition_data/X_train.csv\", squeeze=True)\n",
        "X_test=pd.read_csv(\"covid_tweet_competition_data/X_test.csv\", squeeze=True)\n",
        "\n",
        "y_train_labels=pd.read_csv(\"covid_tweet_competition_data/y_train_labels.csv\", squeeze=True)\n",
        "\n",
        "# ohe encode Y data\n",
        "y_train = pd.get_dummies(y_train_labels)\n",
        "\n",
        "X_train.head()"
      ],
      "execution_count": null,
      "outputs": [
        {
          "output_type": "execute_result",
          "data": {
            "text/plain": [
              "0    \"[T]he label of the popular Lysol already show...\n",
              "1    There were more deaths on the roads of France ...\n",
              "2    250 new cases of #COVID19Nigeria; Plateau-69 F...\n",
              "3    @XanderArmstrong Why was chloroquine described...\n",
              "4    Our new Can Compare 'College' tags make it eas...\n",
              "Name: tweet, dtype: object"
            ]
          },
          "metadata": {},
          "execution_count": 3
        }
      ]
    },
    {
      "cell_type": "markdown",
      "metadata": {
        "id": "gEzPoXPj3V7u"
      },
      "source": [
        "##2.   Preprocess data using keras tokenizer / Write and Save Preprocessor function\n"
      ]
    },
    {
      "cell_type": "code",
      "metadata": {
        "id": "16QV9Y9TC3B3",
        "colab": {
          "base_uri": "https://localhost:8080/"
        },
        "outputId": "bb340f02-1a48-4777-ca5e-c890c410525a"
      },
      "source": [
        "from tensorflow.keras.preprocessing.text import Tokenizer\n",
        "from tensorflow.keras.preprocessing.sequence import pad_sequences\n",
        "import numpy as np\n",
        "\n",
        "# Build vocabulary from training text data\n",
        "tokenizer = Tokenizer(num_words=10000)\n",
        "tokenizer.fit_on_texts(X_train)\n",
        "\n",
        "# preprocessor tokenizes words and makes sure all documents have the same length\n",
        "def preprocessor(data, maxlen=40, max_words=10000):\n",
        "\n",
        "    sequences = tokenizer.texts_to_sequences(data)\n",
        "\n",
        "    word_index = tokenizer.word_index\n",
        "    X = pad_sequences(sequences, maxlen=maxlen)\n",
        "\n",
        "    return X\n",
        "\n",
        "print(preprocessor(X_train).shape)\n",
        "print(preprocessor(X_test).shape)"
      ],
      "execution_count": null,
      "outputs": [
        {
          "output_type": "stream",
          "name": "stdout",
          "text": [
            "(6505, 40)\n",
            "(2055, 40)\n"
          ]
        }
      ]
    },
    {
      "cell_type": "markdown",
      "metadata": {
        "id": "X52kECL43b-O"
      },
      "source": [
        "##3. Fit model on preprocessed data and save preprocessor function and model \n"
      ]
    },
    {
      "cell_type": "code",
      "metadata": {
        "colab": {
          "base_uri": "https://localhost:8080/"
        },
        "id": "NCbBf8j9ClYl",
        "outputId": "6b61aedd-8a7b-4bde-90ba-0dda77283ffe"
      },
      "source": [
        "from tensorflow.keras.layers import Dense, Embedding,Flatten\n",
        "from tensorflow.keras.models import Sequential\n",
        "\n",
        "model = Sequential()\n",
        "model.add(Embedding(10000, 16, input_length=40))\n",
        "model.add(Flatten())\n",
        "model.add(Dense(2, activation='softmax'))\n",
        "model.summary()\n",
        "\n",
        "model.compile(optimizer='rmsprop', loss='categorical_crossentropy', metrics=['acc'])\n",
        "\n",
        "history = model.fit(preprocessor(X_train), y_train,\n",
        "                    epochs=1,\n",
        "                    batch_size=32,\n",
        "                    validation_split=0.2)"
      ],
      "execution_count": null,
      "outputs": [
        {
          "output_type": "stream",
          "name": "stdout",
          "text": [
            "Model: \"sequential\"\n",
            "_________________________________________________________________\n",
            " Layer (type)                Output Shape              Param #   \n",
            "=================================================================\n",
            " embedding (Embedding)       (None, 40, 16)            160000    \n",
            "                                                                 \n",
            " flatten (Flatten)           (None, 640)               0         \n",
            "                                                                 \n",
            " dense (Dense)               (None, 2)                 1282      \n",
            "                                                                 \n",
            "=================================================================\n",
            "Total params: 161,282\n",
            "Trainable params: 161,282\n",
            "Non-trainable params: 0\n",
            "_________________________________________________________________\n",
            "163/163 [==============================] - 2s 5ms/step - loss: 0.5025 - acc: 0.7563 - val_loss: 0.3788 - val_acc: 0.8278\n"
          ]
        }
      ]
    },
    {
      "cell_type": "markdown",
      "metadata": {
        "id": "zmJAnmO-5AcU"
      },
      "source": [
        "#### Save preprocessor function to local \"preprocessor.zip\" file"
      ]
    },
    {
      "cell_type": "code",
      "metadata": {
        "colab": {
          "base_uri": "https://localhost:8080/"
        },
        "id": "4VGacc0LDaMA",
        "outputId": "32ebebf1-34dd-4e27-e450-98d9299e2034"
      },
      "source": [
        "import aimodelshare as ai\n",
        "ai.export_preprocessor(preprocessor,\"\") "
      ],
      "execution_count": null,
      "outputs": [
        {
          "output_type": "stream",
          "name": "stdout",
          "text": [
            "Your preprocessor is now saved to 'preprocessor.zip'\n"
          ]
        }
      ]
    },
    {
      "cell_type": "markdown",
      "metadata": {
        "id": "oOWBa8Cv5LdL"
      },
      "source": [
        "#### Save model to local \".onnx\" file"
      ]
    },
    {
      "cell_type": "code",
      "metadata": {
        "id": "pEhvnRiQDlY5"
      },
      "source": [
        "# Save keras model to local ONNX file\n",
        "from aimodelshare.aimsonnx import model_to_onnx\n",
        "\n",
        "onnx_model = model_to_onnx(model, framework='keras',\n",
        "                          transfer_learning=False,\n",
        "                          deep_learning=True)\n",
        "\n",
        "with open(\"model.onnx\", \"wb\") as f:\n",
        "    f.write(onnx_model.SerializeToString())"
      ],
      "execution_count": null,
      "outputs": []
    },
    {
      "cell_type": "markdown",
      "metadata": {
        "id": "gHWkAzvX3m8O"
      },
      "source": [
        "## 4. Generate predictions from X_test data and submit model to competition\n"
      ]
    },
    {
      "cell_type": "code",
      "metadata": {
        "colab": {
          "base_uri": "https://localhost:8080/"
        },
        "id": "RtgkM02MDpkO",
        "outputId": "dbf71e1e-bf0d-4824-9507-08faada40660"
      },
      "source": [
        "#Set credentials using modelshare.org username/password\n",
        "\n",
        "from aimodelshare.aws import set_credentials\n",
        "    \n",
        "apiurl='https://n8tentavl5.execute-api.us-east-1.amazonaws.com/prod/m' #This is the unique rest api that powers this Covid Tweet Playground\n",
        "\n",
        "set_credentials(apiurl=apiurl)"
      ],
      "execution_count": null,
      "outputs": [
        {
          "output_type": "stream",
          "name": "stdout",
          "text": [
            "AI Modelshare Username:··········\n",
            "AI Modelshare Password:··········\n",
            "AI Model Share login credentials set successfully.\n"
          ]
        }
      ]
    },
    {
      "cell_type": "code",
      "metadata": {
        "id": "fKNGSww8EGgi"
      },
      "source": [
        "#Instantiate Competition\n",
        "\n",
        "mycompetition= ai.Competition(apiurl)"
      ],
      "execution_count": null,
      "outputs": []
    },
    {
      "cell_type": "code",
      "metadata": {
        "id": "_Ql4wksyEUnP",
        "colab": {
          "base_uri": "https://localhost:8080/"
        },
        "outputId": "33398a30-0693-4787-f21d-a9ab0cf68803"
      },
      "source": [
        "#Submit Model 1: \n",
        "\n",
        "#-- Generate predicted y values (Model 1)\n",
        "#Note: Keras predict returns the predicted column index location for classification models\n",
        "prediction_column_index=model.predict(preprocessor(X_test)).argmax(axis=1)\n",
        "\n",
        "# extract correct prediction labels \n",
        "prediction_labels = [y_train.columns[i] for i in prediction_column_index]\n",
        "\n",
        "# Submit Model 1 to Competition Leaderboard\n",
        "mycompetition.submit_model(model_filepath = \"model.onnx\",\n",
        "                                 preprocessor_filepath=\"preprocessor.zip\",\n",
        "                                 prediction_submission=prediction_labels)"
      ],
      "execution_count": null,
      "outputs": [
        {
          "output_type": "stream",
          "name": "stdout",
          "text": [
            "Insert search tags to help users find your model (optional): \n",
            "Provide any useful notes about your model (optional): \n",
            "\n",
            "Your model has been submitted as model version 2\n",
            "\n",
            "To submit code used to create this model or to view current leaderboard navigate to Model Playground: \n",
            "\n",
            " https://www.modelshare.org/detail/model:1572\n"
          ]
        }
      ]
    },
    {
      "cell_type": "code",
      "metadata": {
        "colab": {
          "base_uri": "https://localhost:8080/",
          "height": 202
        },
        "id": "GN1zvAmNEq17",
        "outputId": "2639a60a-4edf-42d6-f002-8b08592471a9"
      },
      "source": [
        "# Get leaderboard to explore current best model architectures\n",
        "\n",
        "# Get raw data in pandas data frame\n",
        "data = mycompetition.get_leaderboard()\n",
        "\n",
        "# Stylize leaderboard data\n",
        "mycompetition.stylize_leaderboard(data)"
      ],
      "execution_count": null,
      "outputs": [
        {
          "output_type": "execute_result",
          "data": {
            "text/plain": [
              "<pandas.io.formats.style.Styler at 0x7fed51842050>"
            ],
            "text/html": [
              "<style type=\"text/css\">\n",
              "#T_859b6_row0_col0 {\n",
              "  text-align: center;\n",
              "  width: 10em;\n",
              "  height: 80%;\n",
              "  background: linear-gradient(90deg,#f5f8d6 81.3%, transparent 81.3%);\n",
              "  color: #251e1b;\n",
              "  font-size: 12px;\n",
              "}\n",
              "#T_859b6_row0_col1 {\n",
              "  text-align: center;\n",
              "  width: 10em;\n",
              "  height: 80%;\n",
              "  background: linear-gradient(90deg,#c778c8 81.2%, transparent 81.2%);\n",
              "  color: #251e1b;\n",
              "  font-size: 12px;\n",
              "}\n",
              "#T_859b6_row0_col2 {\n",
              "  text-align: center;\n",
              "  width: 10em;\n",
              "  height: 80%;\n",
              "  background: linear-gradient(90deg,#ff4971 81.5%, transparent 81.5%);\n",
              "  color: #251e1b;\n",
              "  font-size: 12px;\n",
              "}\n",
              "#T_859b6_row0_col3 {\n",
              "  text-align: center;\n",
              "  width: 10em;\n",
              "  height: 80%;\n",
              "  background: linear-gradient(90deg,#aadbaa 81.2%, transparent 81.2%);\n",
              "  color: #251e1b;\n",
              "  font-size: 12px;\n",
              "}\n",
              "#T_859b6_row0_col4, #T_859b6_row0_col5, #T_859b6_row0_col6, #T_859b6_row0_col7, #T_859b6_row0_col8, #T_859b6_row0_col9, #T_859b6_row0_col10, #T_859b6_row0_col11, #T_859b6_row0_col12, #T_859b6_row0_col13, #T_859b6_row0_col14, #T_859b6_row0_col15, #T_859b6_row0_col16, #T_859b6_row0_col17, #T_859b6_row0_col18, #T_859b6_row0_col19, #T_859b6_row1_col4, #T_859b6_row1_col5, #T_859b6_row1_col6, #T_859b6_row1_col7, #T_859b6_row1_col8, #T_859b6_row1_col9, #T_859b6_row1_col10, #T_859b6_row1_col11, #T_859b6_row1_col12, #T_859b6_row1_col13, #T_859b6_row1_col14, #T_859b6_row1_col15, #T_859b6_row1_col16, #T_859b6_row1_col17, #T_859b6_row1_col18, #T_859b6_row1_col19 {\n",
              "  text-align: center;\n",
              "}\n",
              "#T_859b6_row1_col0 {\n",
              "  text-align: center;\n",
              "  width: 10em;\n",
              "  height: 80%;\n",
              "  background: linear-gradient(90deg,#f5f8d6 76.1%, transparent 76.1%);\n",
              "  color: #251e1b;\n",
              "  font-size: 12px;\n",
              "}\n",
              "#T_859b6_row1_col1 {\n",
              "  text-align: center;\n",
              "  width: 10em;\n",
              "  height: 80%;\n",
              "  background: linear-gradient(90deg,#c778c8 74.4%, transparent 74.4%);\n",
              "  color: #251e1b;\n",
              "  font-size: 12px;\n",
              "}\n",
              "#T_859b6_row1_col2 {\n",
              "  text-align: center;\n",
              "  width: 10em;\n",
              "  height: 80%;\n",
              "  background: linear-gradient(90deg,#ff4971 83.1%, transparent 83.1%);\n",
              "  color: #251e1b;\n",
              "  font-size: 12px;\n",
              "}\n",
              "#T_859b6_row1_col3 {\n",
              "  text-align: center;\n",
              "  width: 10em;\n",
              "  height: 80%;\n",
              "  background: linear-gradient(90deg,#aadbaa 75.3%, transparent 75.3%);\n",
              "  color: #251e1b;\n",
              "  font-size: 12px;\n",
              "}\n",
              "</style>\n",
              "<table id=\"T_859b6_\" class=\"dataframe\">\n",
              "  <thead>\n",
              "    <tr>\n",
              "      <th class=\"blank level0\" >&nbsp;</th>\n",
              "      <th class=\"col_heading level0 col0\" >accuracy</th>\n",
              "      <th class=\"col_heading level0 col1\" >f1_score</th>\n",
              "      <th class=\"col_heading level0 col2\" >precision</th>\n",
              "      <th class=\"col_heading level0 col3\" >recall</th>\n",
              "      <th class=\"col_heading level0 col4\" >ml_framework</th>\n",
              "      <th class=\"col_heading level0 col5\" >transfer_learning</th>\n",
              "      <th class=\"col_heading level0 col6\" >deep_learning</th>\n",
              "      <th class=\"col_heading level0 col7\" >model_type</th>\n",
              "      <th class=\"col_heading level0 col8\" >depth</th>\n",
              "      <th class=\"col_heading level0 col9\" >num_params</th>\n",
              "      <th class=\"col_heading level0 col10\" >flatten_layers</th>\n",
              "      <th class=\"col_heading level0 col11\" >dense_layers</th>\n",
              "      <th class=\"col_heading level0 col12\" >embedding_layers</th>\n",
              "      <th class=\"col_heading level0 col13\" >softmax_act</th>\n",
              "      <th class=\"col_heading level0 col14\" >loss</th>\n",
              "      <th class=\"col_heading level0 col15\" >optimizer</th>\n",
              "      <th class=\"col_heading level0 col16\" >model_config</th>\n",
              "      <th class=\"col_heading level0 col17\" >memory_size</th>\n",
              "      <th class=\"col_heading level0 col18\" >username</th>\n",
              "      <th class=\"col_heading level0 col19\" >version</th>\n",
              "    </tr>\n",
              "  </thead>\n",
              "  <tbody>\n",
              "    <tr>\n",
              "      <th id=\"T_859b6_level0_row0\" class=\"row_heading level0 row0\" >0</th>\n",
              "      <td id=\"T_859b6_row0_col0\" class=\"data row0 col0\" >81.31%</td>\n",
              "      <td id=\"T_859b6_row0_col1\" class=\"data row0 col1\" >81.22%</td>\n",
              "      <td id=\"T_859b6_row0_col2\" class=\"data row0 col2\" >81.49%</td>\n",
              "      <td id=\"T_859b6_row0_col3\" class=\"data row0 col3\" >81.17%</td>\n",
              "      <td id=\"T_859b6_row0_col4\" class=\"data row0 col4\" >keras</td>\n",
              "      <td id=\"T_859b6_row0_col5\" class=\"data row0 col5\" >False</td>\n",
              "      <td id=\"T_859b6_row0_col6\" class=\"data row0 col6\" >True</td>\n",
              "      <td id=\"T_859b6_row0_col7\" class=\"data row0 col7\" >Sequential</td>\n",
              "      <td id=\"T_859b6_row0_col8\" class=\"data row0 col8\" >3.000000</td>\n",
              "      <td id=\"T_859b6_row0_col9\" class=\"data row0 col9\" >161282.000000</td>\n",
              "      <td id=\"T_859b6_row0_col10\" class=\"data row0 col10\" >1.000000</td>\n",
              "      <td id=\"T_859b6_row0_col11\" class=\"data row0 col11\" >1.000000</td>\n",
              "      <td id=\"T_859b6_row0_col12\" class=\"data row0 col12\" >1.000000</td>\n",
              "      <td id=\"T_859b6_row0_col13\" class=\"data row0 col13\" >1.000000</td>\n",
              "      <td id=\"T_859b6_row0_col14\" class=\"data row0 col14\" >str</td>\n",
              "      <td id=\"T_859b6_row0_col15\" class=\"data row0 col15\" >RMSprop</td>\n",
              "      <td id=\"T_859b6_row0_col16\" class=\"data row0 col16\" >{'name': 'sequential', 'layers...</td>\n",
              "      <td id=\"T_859b6_row0_col17\" class=\"data row0 col17\" >1413536.000000</td>\n",
              "      <td id=\"T_859b6_row0_col18\" class=\"data row0 col18\" >hp2500test</td>\n",
              "      <td id=\"T_859b6_row0_col19\" class=\"data row0 col19\" >2</td>\n",
              "    </tr>\n",
              "    <tr>\n",
              "      <th id=\"T_859b6_level0_row1\" class=\"row_heading level0 row1\" >1</th>\n",
              "      <td id=\"T_859b6_row1_col0\" class=\"data row1 col0\" >76.11%</td>\n",
              "      <td id=\"T_859b6_row1_col1\" class=\"data row1 col1\" >74.36%</td>\n",
              "      <td id=\"T_859b6_row1_col2\" class=\"data row1 col2\" >83.13%</td>\n",
              "      <td id=\"T_859b6_row1_col3\" class=\"data row1 col3\" >75.30%</td>\n",
              "      <td id=\"T_859b6_row1_col4\" class=\"data row1 col4\" >sklearn</td>\n",
              "      <td id=\"T_859b6_row1_col5\" class=\"data row1 col5\" >False</td>\n",
              "      <td id=\"T_859b6_row1_col6\" class=\"data row1 col6\" >False</td>\n",
              "      <td id=\"T_859b6_row1_col7\" class=\"data row1 col7\" >RandomForestClassifier</td>\n",
              "      <td id=\"T_859b6_row1_col8\" class=\"data row1 col8\" >nan</td>\n",
              "      <td id=\"T_859b6_row1_col9\" class=\"data row1 col9\" >nan</td>\n",
              "      <td id=\"T_859b6_row1_col10\" class=\"data row1 col10\" >nan</td>\n",
              "      <td id=\"T_859b6_row1_col11\" class=\"data row1 col11\" >nan</td>\n",
              "      <td id=\"T_859b6_row1_col12\" class=\"data row1 col12\" >nan</td>\n",
              "      <td id=\"T_859b6_row1_col13\" class=\"data row1 col13\" >nan</td>\n",
              "      <td id=\"T_859b6_row1_col14\" class=\"data row1 col14\" >nan</td>\n",
              "      <td id=\"T_859b6_row1_col15\" class=\"data row1 col15\" >nan</td>\n",
              "      <td id=\"T_859b6_row1_col16\" class=\"data row1 col16\" >{'bootstrap': True, 'ccp_alpha...</td>\n",
              "      <td id=\"T_859b6_row1_col17\" class=\"data row1 col17\" >nan</td>\n",
              "      <td id=\"T_859b6_row1_col18\" class=\"data row1 col18\" >AdvProjectsinML</td>\n",
              "      <td id=\"T_859b6_row1_col19\" class=\"data row1 col19\" >1</td>\n",
              "    </tr>\n",
              "  </tbody>\n",
              "</table>\n"
            ]
          },
          "metadata": {},
          "execution_count": 12
        }
      ]
    },
    {
      "cell_type": "code",
      "metadata": {
        "colab": {
          "base_uri": "https://localhost:8080/",
          "height": 630
        },
        "id": "qLl7yLpVEx26",
        "outputId": "b698b455-350d-47a5-ae1f-fb9e60cc7d3e"
      },
      "source": [
        "# Compare two or more models \n",
        "data=mycompetition.compare_models([1, 2], verbose=1)\n",
        "mycompetition.stylize_compare(data)"
      ],
      "execution_count": null,
      "outputs": [
        {
          "output_type": "display_data",
          "data": {
            "text/plain": [
              "<IPython.core.display.HTML object>"
            ],
            "text/html": [
              "<style type=\"text/css\">\n",
              "#T_9bc54_ caption {\n",
              "  color: black;\n",
              "  font-size: 18px;\n",
              "}\n",
              "#T_9bc54_row4_col2, #T_9bc54_row16_col2 {\n",
              "  background: tomato;\n",
              "}\n",
              "</style>\n",
              "<table id=\"T_9bc54_\">\n",
              "  <caption>Model type: RandomForestClassifier</caption>\n",
              "  <thead>\n",
              "    <tr>\n",
              "      <th class=\"blank level0\" >&nbsp;</th>\n",
              "      <th class=\"col_heading level0 col0\" >param_name</th>\n",
              "      <th class=\"col_heading level0 col1\" >default_value</th>\n",
              "      <th class=\"col_heading level0 col2\" >model_version_1</th>\n",
              "    </tr>\n",
              "  </thead>\n",
              "  <tbody>\n",
              "    <tr>\n",
              "      <th id=\"T_9bc54_level0_row0\" class=\"row_heading level0 row0\" >0</th>\n",
              "      <td id=\"T_9bc54_row0_col0\" class=\"data row0 col0\" >bootstrap</td>\n",
              "      <td id=\"T_9bc54_row0_col1\" class=\"data row0 col1\" >True</td>\n",
              "      <td id=\"T_9bc54_row0_col2\" class=\"data row0 col2\" >True</td>\n",
              "    </tr>\n",
              "    <tr>\n",
              "      <th id=\"T_9bc54_level0_row1\" class=\"row_heading level0 row1\" >1</th>\n",
              "      <td id=\"T_9bc54_row1_col0\" class=\"data row1 col0\" >ccp_alpha</td>\n",
              "      <td id=\"T_9bc54_row1_col1\" class=\"data row1 col1\" >0.000000</td>\n",
              "      <td id=\"T_9bc54_row1_col2\" class=\"data row1 col2\" >0.000000</td>\n",
              "    </tr>\n",
              "    <tr>\n",
              "      <th id=\"T_9bc54_level0_row2\" class=\"row_heading level0 row2\" >2</th>\n",
              "      <td id=\"T_9bc54_row2_col0\" class=\"data row2 col0\" >class_weight</td>\n",
              "      <td id=\"T_9bc54_row2_col1\" class=\"data row2 col1\" >None</td>\n",
              "      <td id=\"T_9bc54_row2_col2\" class=\"data row2 col2\" >None</td>\n",
              "    </tr>\n",
              "    <tr>\n",
              "      <th id=\"T_9bc54_level0_row3\" class=\"row_heading level0 row3\" >3</th>\n",
              "      <td id=\"T_9bc54_row3_col0\" class=\"data row3 col0\" >criterion</td>\n",
              "      <td id=\"T_9bc54_row3_col1\" class=\"data row3 col1\" >gini</td>\n",
              "      <td id=\"T_9bc54_row3_col2\" class=\"data row3 col2\" >gini</td>\n",
              "    </tr>\n",
              "    <tr>\n",
              "      <th id=\"T_9bc54_level0_row4\" class=\"row_heading level0 row4\" >4</th>\n",
              "      <td id=\"T_9bc54_row4_col0\" class=\"data row4 col0\" >max_depth</td>\n",
              "      <td id=\"T_9bc54_row4_col1\" class=\"data row4 col1\" >None</td>\n",
              "      <td id=\"T_9bc54_row4_col2\" class=\"data row4 col2\" >3</td>\n",
              "    </tr>\n",
              "    <tr>\n",
              "      <th id=\"T_9bc54_level0_row5\" class=\"row_heading level0 row5\" >5</th>\n",
              "      <td id=\"T_9bc54_row5_col0\" class=\"data row5 col0\" >max_features</td>\n",
              "      <td id=\"T_9bc54_row5_col1\" class=\"data row5 col1\" >auto</td>\n",
              "      <td id=\"T_9bc54_row5_col2\" class=\"data row5 col2\" >auto</td>\n",
              "    </tr>\n",
              "    <tr>\n",
              "      <th id=\"T_9bc54_level0_row6\" class=\"row_heading level0 row6\" >6</th>\n",
              "      <td id=\"T_9bc54_row6_col0\" class=\"data row6 col0\" >max_leaf_nodes</td>\n",
              "      <td id=\"T_9bc54_row6_col1\" class=\"data row6 col1\" >None</td>\n",
              "      <td id=\"T_9bc54_row6_col2\" class=\"data row6 col2\" >None</td>\n",
              "    </tr>\n",
              "    <tr>\n",
              "      <th id=\"T_9bc54_level0_row7\" class=\"row_heading level0 row7\" >7</th>\n",
              "      <td id=\"T_9bc54_row7_col0\" class=\"data row7 col0\" >max_samples</td>\n",
              "      <td id=\"T_9bc54_row7_col1\" class=\"data row7 col1\" >None</td>\n",
              "      <td id=\"T_9bc54_row7_col2\" class=\"data row7 col2\" >None</td>\n",
              "    </tr>\n",
              "    <tr>\n",
              "      <th id=\"T_9bc54_level0_row8\" class=\"row_heading level0 row8\" >8</th>\n",
              "      <td id=\"T_9bc54_row8_col0\" class=\"data row8 col0\" >min_impurity_decrease</td>\n",
              "      <td id=\"T_9bc54_row8_col1\" class=\"data row8 col1\" >0.000000</td>\n",
              "      <td id=\"T_9bc54_row8_col2\" class=\"data row8 col2\" >0.000000</td>\n",
              "    </tr>\n",
              "    <tr>\n",
              "      <th id=\"T_9bc54_level0_row9\" class=\"row_heading level0 row9\" >9</th>\n",
              "      <td id=\"T_9bc54_row9_col0\" class=\"data row9 col0\" >min_impurity_split</td>\n",
              "      <td id=\"T_9bc54_row9_col1\" class=\"data row9 col1\" >None</td>\n",
              "      <td id=\"T_9bc54_row9_col2\" class=\"data row9 col2\" >None</td>\n",
              "    </tr>\n",
              "    <tr>\n",
              "      <th id=\"T_9bc54_level0_row10\" class=\"row_heading level0 row10\" >10</th>\n",
              "      <td id=\"T_9bc54_row10_col0\" class=\"data row10 col0\" >min_samples_leaf</td>\n",
              "      <td id=\"T_9bc54_row10_col1\" class=\"data row10 col1\" >1</td>\n",
              "      <td id=\"T_9bc54_row10_col2\" class=\"data row10 col2\" >1</td>\n",
              "    </tr>\n",
              "    <tr>\n",
              "      <th id=\"T_9bc54_level0_row11\" class=\"row_heading level0 row11\" >11</th>\n",
              "      <td id=\"T_9bc54_row11_col0\" class=\"data row11 col0\" >min_samples_split</td>\n",
              "      <td id=\"T_9bc54_row11_col1\" class=\"data row11 col1\" >2</td>\n",
              "      <td id=\"T_9bc54_row11_col2\" class=\"data row11 col2\" >2</td>\n",
              "    </tr>\n",
              "    <tr>\n",
              "      <th id=\"T_9bc54_level0_row12\" class=\"row_heading level0 row12\" >12</th>\n",
              "      <td id=\"T_9bc54_row12_col0\" class=\"data row12 col0\" >min_weight_fraction_leaf</td>\n",
              "      <td id=\"T_9bc54_row12_col1\" class=\"data row12 col1\" >0.000000</td>\n",
              "      <td id=\"T_9bc54_row12_col2\" class=\"data row12 col2\" >0.000000</td>\n",
              "    </tr>\n",
              "    <tr>\n",
              "      <th id=\"T_9bc54_level0_row13\" class=\"row_heading level0 row13\" >13</th>\n",
              "      <td id=\"T_9bc54_row13_col0\" class=\"data row13 col0\" >n_estimators</td>\n",
              "      <td id=\"T_9bc54_row13_col1\" class=\"data row13 col1\" >100</td>\n",
              "      <td id=\"T_9bc54_row13_col2\" class=\"data row13 col2\" >100</td>\n",
              "    </tr>\n",
              "    <tr>\n",
              "      <th id=\"T_9bc54_level0_row14\" class=\"row_heading level0 row14\" >14</th>\n",
              "      <td id=\"T_9bc54_row14_col0\" class=\"data row14 col0\" >n_jobs</td>\n",
              "      <td id=\"T_9bc54_row14_col1\" class=\"data row14 col1\" >None</td>\n",
              "      <td id=\"T_9bc54_row14_col2\" class=\"data row14 col2\" >None</td>\n",
              "    </tr>\n",
              "    <tr>\n",
              "      <th id=\"T_9bc54_level0_row15\" class=\"row_heading level0 row15\" >15</th>\n",
              "      <td id=\"T_9bc54_row15_col0\" class=\"data row15 col0\" >oob_score</td>\n",
              "      <td id=\"T_9bc54_row15_col1\" class=\"data row15 col1\" >False</td>\n",
              "      <td id=\"T_9bc54_row15_col2\" class=\"data row15 col2\" >False</td>\n",
              "    </tr>\n",
              "    <tr>\n",
              "      <th id=\"T_9bc54_level0_row16\" class=\"row_heading level0 row16\" >16</th>\n",
              "      <td id=\"T_9bc54_row16_col0\" class=\"data row16 col0\" >random_state</td>\n",
              "      <td id=\"T_9bc54_row16_col1\" class=\"data row16 col1\" >None</td>\n",
              "      <td id=\"T_9bc54_row16_col2\" class=\"data row16 col2\" >0</td>\n",
              "    </tr>\n",
              "    <tr>\n",
              "      <th id=\"T_9bc54_level0_row17\" class=\"row_heading level0 row17\" >17</th>\n",
              "      <td id=\"T_9bc54_row17_col0\" class=\"data row17 col0\" >verbose</td>\n",
              "      <td id=\"T_9bc54_row17_col1\" class=\"data row17 col1\" >0</td>\n",
              "      <td id=\"T_9bc54_row17_col2\" class=\"data row17 col2\" >0</td>\n",
              "    </tr>\n",
              "    <tr>\n",
              "      <th id=\"T_9bc54_level0_row18\" class=\"row_heading level0 row18\" >18</th>\n",
              "      <td id=\"T_9bc54_row18_col0\" class=\"data row18 col0\" >warm_start</td>\n",
              "      <td id=\"T_9bc54_row18_col1\" class=\"data row18 col1\" >False</td>\n",
              "      <td id=\"T_9bc54_row18_col2\" class=\"data row18 col2\" >False</td>\n",
              "    </tr>\n",
              "  </tbody>\n",
              "</table>\n"
            ]
          },
          "metadata": {}
        },
        {
          "output_type": "stream",
          "name": "stdout",
          "text": [
            "\n",
            "\n",
            "\n"
          ]
        },
        {
          "output_type": "display_data",
          "data": {
            "text/plain": [
              "<IPython.core.display.HTML object>"
            ],
            "text/html": [
              "<style type=\"text/css\">\n",
              "#T_34ef9_ caption {\n",
              "  color: black;\n",
              "  font-size: 18px;\n",
              "}\n",
              "#T_34ef9_row0_col0 {\n",
              "  background: #f4cae4;\n",
              "  color: black;\n",
              "  color: black;\n",
              "}\n",
              "#T_34ef9_row0_col1, #T_34ef9_row0_col2, #T_34ef9_row1_col1, #T_34ef9_row1_col2, #T_34ef9_row2_col1, #T_34ef9_row2_col2 {\n",
              "  background: white;\n",
              "  color: black;\n",
              "  color: black;\n",
              "}\n",
              "#T_34ef9_row1_col0 {\n",
              "  background: #e6f5c9;\n",
              "  color: black;\n",
              "  color: black;\n",
              "}\n",
              "#T_34ef9_row2_col0 {\n",
              "  background: #fff2ae;\n",
              "  color: black;\n",
              "  color: black;\n",
              "}\n",
              "</style>\n",
              "<table id=\"T_34ef9_\">\n",
              "  <caption>Model type: Neural Network</caption>\n",
              "  <thead>\n",
              "    <tr>\n",
              "      <th class=\"blank level0\" >&nbsp;</th>\n",
              "      <th class=\"col_heading level0 col0\" >Model_2_Layer</th>\n",
              "      <th class=\"col_heading level0 col1\" >Model_2_Shape</th>\n",
              "      <th class=\"col_heading level0 col2\" >Model_2_Params</th>\n",
              "    </tr>\n",
              "  </thead>\n",
              "  <tbody>\n",
              "    <tr>\n",
              "      <th id=\"T_34ef9_level0_row0\" class=\"row_heading level0 row0\" >0</th>\n",
              "      <td id=\"T_34ef9_row0_col0\" class=\"data row0 col0\" >Embedding</td>\n",
              "      <td id=\"T_34ef9_row0_col1\" class=\"data row0 col1\" >[None, 40, 16]</td>\n",
              "      <td id=\"T_34ef9_row0_col2\" class=\"data row0 col2\" >160000</td>\n",
              "    </tr>\n",
              "    <tr>\n",
              "      <th id=\"T_34ef9_level0_row1\" class=\"row_heading level0 row1\" >1</th>\n",
              "      <td id=\"T_34ef9_row1_col0\" class=\"data row1 col0\" >Flatten</td>\n",
              "      <td id=\"T_34ef9_row1_col1\" class=\"data row1 col1\" >[None, 640]</td>\n",
              "      <td id=\"T_34ef9_row1_col2\" class=\"data row1 col2\" >0</td>\n",
              "    </tr>\n",
              "    <tr>\n",
              "      <th id=\"T_34ef9_level0_row2\" class=\"row_heading level0 row2\" >2</th>\n",
              "      <td id=\"T_34ef9_row2_col0\" class=\"data row2 col0\" >Dense</td>\n",
              "      <td id=\"T_34ef9_row2_col1\" class=\"data row2 col1\" >[None, 2]</td>\n",
              "      <td id=\"T_34ef9_row2_col2\" class=\"data row2 col2\" >1282</td>\n",
              "    </tr>\n",
              "  </tbody>\n",
              "</table>\n"
            ]
          },
          "metadata": {}
        }
      ]
    }
  ]
}