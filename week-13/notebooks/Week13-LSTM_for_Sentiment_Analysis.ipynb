{
  "nbformat": 4,
  "nbformat_minor": 0,
  "metadata": {
    "colab": {
      "name": "Week13_LSTM_for_Sentiment_Analysis.ipynb",
      "provenance": [],
      "collapsed_sections": []
    },
    "kernelspec": {
      "name": "python3",
      "display_name": "Python 3"
    }
  },
  "cells": [
    {
      "cell_type": "markdown",
      "metadata": {
        "id": "eaCAV4hws0jj"
      },
      "source": [
        "## Working with embedding layers and 1d convolution layers \n",
        "- examples using sequential models\n",
        "- demos of dropout for sequential models and bidirectional sequential layers along the way\n",
        "\n",
        "Code adjusted from *Deep Learning for Python* Book"
      ]
    },
    {
      "cell_type": "code",
      "metadata": {
        "id": "VSGPkI6Lrhyq",
        "colab": {
          "base_uri": "https://localhost:8080/"
        },
        "outputId": "e7d6bf0d-9740-4cb7-9a82-c2d6310a5c25"
      },
      "source": [
        "# Get raw imdb dataset\n",
        "! wget http://ai.stanford.edu/~amaas/data/sentiment/aclImdb_v1.tar.gz"
      ],
      "execution_count": null,
      "outputs": [
        {
          "output_type": "stream",
          "name": "stdout",
          "text": [
            "--2022-04-11 22:06:32--  http://ai.stanford.edu/~amaas/data/sentiment/aclImdb_v1.tar.gz\n",
            "Resolving ai.stanford.edu (ai.stanford.edu)... 171.64.68.10\n",
            "Connecting to ai.stanford.edu (ai.stanford.edu)|171.64.68.10|:80... connected.\n",
            "HTTP request sent, awaiting response... 200 OK\n",
            "Length: 84125825 (80M) [application/x-gzip]\n",
            "Saving to: ‘aclImdb_v1.tar.gz’\n",
            "\n",
            "aclImdb_v1.tar.gz   100%[===================>]  80.23M  36.6MB/s    in 2.2s    \n",
            "\n",
            "2022-04-11 22:06:35 (36.6 MB/s) - ‘aclImdb_v1.tar.gz’ saved [84125825/84125825]\n",
            "\n"
          ]
        }
      ]
    },
    {
      "cell_type": "code",
      "metadata": {
        "id": "oJMsKgAPr5to"
      },
      "source": [
        "# Untar it to a new folder\n",
        "! tar xf aclImdb_v1.tar.gz"
      ],
      "execution_count": null,
      "outputs": []
    },
    {
      "cell_type": "code",
      "metadata": {
        "id": "vPpeq5YosWrH"
      },
      "source": [
        "# Build corpus of docs and labels\n",
        "import os\n",
        "\n",
        "imdb_dir = 'aclImdb'\n",
        "train_dir = os.path.join(imdb_dir, 'train')\n",
        "\n",
        "labels = []\n",
        "texts = []\n",
        "\n",
        "for label_type in ['neg', 'pos']:\n",
        "    dir_name = os.path.join(train_dir, label_type)\n",
        "    for fname in os.listdir(dir_name):\n",
        "        if fname[-4:] == '.txt':\n",
        "            f = open(os.path.join(dir_name, fname))\n",
        "            texts.append(f.read())\n",
        "            f.close()\n",
        "            if label_type == 'neg':\n",
        "                labels.append(0)\n",
        "            else:\n",
        "                labels.append(1)"
      ],
      "execution_count": null,
      "outputs": []
    },
    {
      "cell_type": "code",
      "metadata": {
        "colab": {
          "base_uri": "https://localhost:8080/"
        },
        "id": "1-q3AQ9kFHR3",
        "outputId": "191d4470-088f-42df-bee9-7dec8ad3c2e8"
      },
      "source": [
        "len(texts)"
      ],
      "execution_count": null,
      "outputs": [
        {
          "output_type": "execute_result",
          "data": {
            "text/plain": [
              "25000"
            ]
          },
          "metadata": {},
          "execution_count": 4
        }
      ]
    },
    {
      "cell_type": "code",
      "metadata": {
        "id": "fAystOcWsfBD",
        "colab": {
          "base_uri": "https://localhost:8080/"
        },
        "outputId": "9e5e3f58-9269-42ad-a6f1-0a261734b9a3"
      },
      "source": [
        "print(texts[0])\n",
        "print(labels[0])"
      ],
      "execution_count": null,
      "outputs": [
        {
          "output_type": "stream",
          "name": "stdout",
          "text": [
            "Bugs Bunny accidentally ends up at the South Pole while trying to vacation in Florida. Where he meets a little penquin, which he tries to save from an Eskimo. This short tries and the penquin is adorable, but in the end it's a bit too light in the laughs department. The Eskimo isn't really that great of a foil for Bugs and I just seen a lot better Bugs Bunny cartoons frankly, even other shorts when he's paired with other unknown antagonists. So I can't in good conscience recommend this one. However it is nice to see it in it's uncut form. This cartoon is on Disk 3 of the \"Looney Tunes Golden Collection Volume 1\" <br /><br />My Grade: C\n",
            "0\n"
          ]
        }
      ]
    },
    {
      "cell_type": "code",
      "metadata": {
        "id": "A4kmpHZ1slPV",
        "colab": {
          "base_uri": "https://localhost:8080/"
        },
        "outputId": "c5f80803-6862-4dac-d4b5-2b2995268a73"
      },
      "source": [
        "# Tokenize the data into one hot vectors\n",
        "from tensorflow.keras.preprocessing.text import Tokenizer\n",
        "from tensorflow.keras.preprocessing.sequence import pad_sequences\n",
        "import numpy as np\n",
        "\n",
        "maxlen = 100  # We will cut reviews after 100 words\n",
        "training_samples = 10000  # We will be training on 10000 samples\n",
        "validation_samples = 10000  # We will be validating on 10000 samples\n",
        "max_words = 10000  # We will only consider the top 10,000 words in the dataset\n",
        "\n",
        "# instantiates the tokenizer\n",
        "tokenizer = Tokenizer(num_words=max_words)\n",
        "\n",
        "# converts words in each text to each word's numeric index in tokenizer dictionary.\n",
        "tokenizer.fit_on_texts(texts)\n",
        "\n",
        "# creates sequences of words from dictionary\n",
        "sequences = tokenizer.texts_to_sequences(texts) \n",
        "\n",
        "word_index = tokenizer.word_index\n",
        "print('Found %s unique tokens.' % len(word_index))\n",
        "\n",
        "# add zeroes to pad sequences under max length\n",
        "data = pad_sequences(sequences, maxlen=maxlen)\n",
        "\n",
        "labels = np.asarray(labels)\n",
        "\n",
        "print('Shape of data tensor:', data.shape)\n",
        "print('Shape of label tensor:', labels.shape)\n",
        "\n",
        "# Split the data into a training set and a validation set\n",
        "# But first, shuffle the data, since we started from data\n",
        "# where samples are ordered (all negative first, then all positive).\n",
        "indices = np.arange(data.shape[0])\n",
        "np.random.shuffle(indices)\n",
        "data = data[indices]\n",
        "labels = labels[indices]\n",
        "\n",
        "x_train = data[:training_samples] #100 words\n",
        "y_train = labels[:training_samples]\n",
        "x_val = data[training_samples: training_samples + validation_samples]\n",
        "y_val = labels[training_samples: training_samples + validation_samples]"
      ],
      "execution_count": null,
      "outputs": [
        {
          "output_type": "stream",
          "name": "stdout",
          "text": [
            "Found 88582 unique tokens.\n",
            "Shape of data tensor: (25000, 100)\n",
            "Shape of label tensor: (25000,)\n"
          ]
        }
      ]
    },
    {
      "cell_type": "code",
      "source": [
        "data[0]"
      ],
      "metadata": {
        "colab": {
          "base_uri": "https://localhost:8080/"
        },
        "id": "YFBsfx2rgINc",
        "outputId": "12d57b13-d886-4892-ae20-4c53a53606df"
      },
      "execution_count": null,
      "outputs": [
        {
          "output_type": "execute_result",
          "data": {
            "text/plain": [
              "array([ 107,    3,  173,    4, 2793, 6889,  105,  448,    4,    1,  198,\n",
              "        303,    5,  101,   11,    6,    3,   49,   19, 4223,    9,   20,\n",
              "         42,  202,    9,   13,  181,  354,    7,    7,   22,  112,   76,\n",
              "          3,  144,   49,  165,   30,    1, 5070,  668,  390,   18,   48,\n",
              "         10,  119,   64,   13,  181, 2671,    1,  338,  136,  303,    5,\n",
              "         27, 3930,    5, 1894,   53,    1,   88,   19,   21,    5,  199,\n",
              "         98, 3481,  276,   44,   10,  216,    1, 2764, 2028,  602,   10,\n",
              "        200,   27,   50, 1553,    7,    7,    1,  274,   16,    1,  516,\n",
              "       1310,   16,    2,  668,   13,  181, 1593,  115,  170,    4,    1,\n",
              "         17], dtype=int32)"
            ]
          },
          "metadata": {},
          "execution_count": 29
        }
      ]
    },
    {
      "cell_type": "code",
      "metadata": {
        "id": "txjBFVQqua5f",
        "colab": {
          "base_uri": "https://localhost:8080/"
        },
        "outputId": "2120c71f-c1b7-46e2-86fe-a3bee365ec1b"
      },
      "source": [
        "# Let's start with a model that ignores the sequential steps that make up each \n",
        "# observation\n",
        "from tensorflow.keras.layers import Dense, Embedding, Flatten\n",
        "from tensorflow.keras.models import Sequential\n",
        "\n",
        "model = Sequential()\n",
        "# Specify the size of your vocabulary (i.e.-10,000 terms)\n",
        "# Specify the number of features you want to extract via fitting weights to your \n",
        "# embedding matrix (e.g. 16)\n",
        "# We also specify the maximum input length to our Embedding layer\n",
        "# so we can later flatten the embedded inputs \n",
        "model.add(Embedding(10000, 16, input_length=maxlen))\n",
        "# After the Embedding layer, \n",
        "# our activations have shape `(samples, maxlen, 16)`.\n",
        "\n",
        "# We flatten the 3D tensor of embeddings \n",
        "# into a 2D tensor of shape `(samples, maxlen * 16)`\n",
        "model.add(Flatten())\n",
        "\n",
        "# We add the classifier on top\n",
        "model.add(Dense(1, activation='sigmoid'))\n",
        "model.compile(optimizer='rmsprop', loss='binary_crossentropy', metrics=['acc'])\n",
        "model.summary()\n",
        "\n",
        "history = model.fit(x_train, y_train,\n",
        "                    epochs=10,\n",
        "                    batch_size=32,\n",
        "                    validation_split=0.2)"
      ],
      "execution_count": null,
      "outputs": [
        {
          "output_type": "stream",
          "name": "stdout",
          "text": [
            "Model: \"sequential_1\"\n",
            "_________________________________________________________________\n",
            " Layer (type)                Output Shape              Param #   \n",
            "=================================================================\n",
            " embedding_1 (Embedding)     (None, 100, 16)           160000    \n",
            "                                                                 \n",
            " flatten_1 (Flatten)         (None, 1600)              0         \n",
            "                                                                 \n",
            " dense_1 (Dense)             (None, 1)                 1601      \n",
            "                                                                 \n",
            "=================================================================\n",
            "Total params: 161,601\n",
            "Trainable params: 161,601\n",
            "Non-trainable params: 0\n",
            "_________________________________________________________________\n",
            "Epoch 1/10\n",
            "250/250 [==============================] - 2s 4ms/step - loss: 0.6753 - acc: 0.6223 - val_loss: 0.6297 - val_acc: 0.7195\n",
            "Epoch 2/10\n",
            "250/250 [==============================] - 1s 3ms/step - loss: 0.5019 - acc: 0.8171 - val_loss: 0.4599 - val_acc: 0.8035\n",
            "Epoch 3/10\n",
            "250/250 [==============================] - 1s 4ms/step - loss: 0.3338 - acc: 0.8816 - val_loss: 0.3943 - val_acc: 0.8270\n",
            "Epoch 4/10\n",
            "250/250 [==============================] - 1s 4ms/step - loss: 0.2461 - acc: 0.9143 - val_loss: 0.3670 - val_acc: 0.8400\n",
            "Epoch 5/10\n",
            "250/250 [==============================] - 1s 4ms/step - loss: 0.1889 - acc: 0.9411 - val_loss: 0.3630 - val_acc: 0.8430\n",
            "Epoch 6/10\n",
            "250/250 [==============================] - 1s 3ms/step - loss: 0.1450 - acc: 0.9589 - val_loss: 0.3683 - val_acc: 0.8390\n",
            "Epoch 7/10\n",
            "250/250 [==============================] - 1s 3ms/step - loss: 0.1097 - acc: 0.9697 - val_loss: 0.3745 - val_acc: 0.8380\n",
            "Epoch 8/10\n",
            "250/250 [==============================] - 1s 3ms/step - loss: 0.0806 - acc: 0.9803 - val_loss: 0.3874 - val_acc: 0.8360\n",
            "Epoch 9/10\n",
            "250/250 [==============================] - 1s 3ms/step - loss: 0.0575 - acc: 0.9884 - val_loss: 0.4027 - val_acc: 0.8345\n",
            "Epoch 10/10\n",
            "250/250 [==============================] - 1s 3ms/step - loss: 0.0396 - acc: 0.9940 - val_loss: 0.4208 - val_acc: 0.8360\n"
          ]
        }
      ]
    },
    {
      "cell_type": "code",
      "metadata": {
        "colab": {
          "base_uri": "https://localhost:8080/"
        },
        "id": "NQmZQ7OnWAsA",
        "outputId": "4341a966-3cf8-47f1-b4ec-f29207611155"
      },
      "source": [
        "# What does the output of the embedding layer look like?  \n",
        "# (It returns a sequentially ordered transformation of numerically indexed \n",
        "# input word data)\n",
        "# Credit: Code adjusted from ML Mastery\n",
        "\n",
        "import tensorflow as tf\n",
        "\n",
        "model = tf.keras.Sequential()\n",
        "model.add(tf.keras.layers.Embedding(1000, 2, input_length=10))\n",
        "# The model will take as input an integer matrix of size (batch, input_length).  \n",
        "# Now model.output_shape is (None, 10, 2), where `None` is the batch  \n",
        "# dimension.  \n",
        "input_array = np.random.randint(1000, size=(1, 10))\n",
        "model.compile('rmsprop', 'mse')\n",
        "output_array = model.predict(input_array)\n",
        "print(output_array.shape)\n",
        "print(output_array[0])"
      ],
      "execution_count": null,
      "outputs": [
        {
          "output_type": "stream",
          "name": "stdout",
          "text": [
            "(1, 10, 2)\n",
            "[[-0.01537427 -0.01595243]\n",
            " [-0.02226641 -0.02764404]\n",
            " [ 0.03548204  0.04067739]\n",
            " [ 0.03737131  0.03836199]\n",
            " [ 0.03798166  0.0163169 ]\n",
            " [-0.01775052  0.04169117]\n",
            " [ 0.04707558  0.0202958 ]\n",
            " [-0.03491955 -0.03958663]\n",
            " [-0.01171577  0.02444894]\n",
            " [-0.011288    0.00346855]]\n"
          ]
        }
      ]
    },
    {
      "cell_type": "code",
      "metadata": {
        "id": "950gVSU0vzZk",
        "colab": {
          "base_uri": "https://localhost:8080/"
        },
        "outputId": "f5b0887a-14ee-436e-c7ec-618ea7f51e9e"
      },
      "source": [
        "# What if we wanted to use a matrix of pretrained embeddings?  \n",
        "# Same as transfer learning before, but now we are importing a pretrained \n",
        "# Embedding matrix:\n",
        "# Download GloVe embedding matrix weights (Might take 10 mins or so!)\n",
        "! wget http://nlp.stanford.edu/data/wordvecs/glove.6B.zip"
      ],
      "execution_count": null,
      "outputs": [
        {
          "output_type": "stream",
          "name": "stdout",
          "text": [
            "--2022-04-11 22:31:20--  http://nlp.stanford.edu/data/wordvecs/glove.6B.zip\n",
            "Resolving nlp.stanford.edu (nlp.stanford.edu)... 171.64.67.140\n",
            "Connecting to nlp.stanford.edu (nlp.stanford.edu)|171.64.67.140|:80... connected.\n",
            "HTTP request sent, awaiting response... 302 Found\n",
            "Location: https://nlp.stanford.edu/data/wordvecs/glove.6B.zip [following]\n",
            "--2022-04-11 22:31:20--  https://nlp.stanford.edu/data/wordvecs/glove.6B.zip\n",
            "Connecting to nlp.stanford.edu (nlp.stanford.edu)|171.64.67.140|:443... connected.\n",
            "HTTP request sent, awaiting response... 301 Moved Permanently\n",
            "Location: http://downloads.cs.stanford.edu/nlp/data/wordvecs/glove.6B.zip [following]\n",
            "--2022-04-11 22:31:20--  http://downloads.cs.stanford.edu/nlp/data/wordvecs/glove.6B.zip\n",
            "Resolving downloads.cs.stanford.edu (downloads.cs.stanford.edu)... 171.64.64.22\n",
            "Connecting to downloads.cs.stanford.edu (downloads.cs.stanford.edu)|171.64.64.22|:80... connected.\n",
            "HTTP request sent, awaiting response... 200 OK\n",
            "Length: 862182753 (822M) [application/zip]\n",
            "Saving to: ‘glove.6B.zip’\n",
            "\n",
            "glove.6B.zip        100%[===================>] 822.24M  5.03MB/s    in 2m 40s  \n",
            "\n",
            "2022-04-11 22:34:00 (5.15 MB/s) - ‘glove.6B.zip’ saved [862182753/862182753]\n",
            "\n"
          ]
        }
      ]
    },
    {
      "cell_type": "code",
      "metadata": {
        "id": "xHDZ80sAyWFR",
        "colab": {
          "base_uri": "https://localhost:8080/"
        },
        "outputId": "011e13bc-e001-452b-b26a-ffab232590bd"
      },
      "source": [
        "! unzip glove.6B.zip "
      ],
      "execution_count": null,
      "outputs": [
        {
          "output_type": "stream",
          "name": "stdout",
          "text": [
            "Archive:  glove.6B.zip\n",
            "  inflating: glove.6B.100d.txt       \n",
            "  inflating: glove.6B.200d.txt       \n",
            "  inflating: glove.6B.300d.txt       \n",
            "  inflating: glove.6B.50d.txt        \n"
          ]
        }
      ]
    },
    {
      "cell_type": "code",
      "metadata": {
        "id": "sdPAVxLcw0zo",
        "colab": {
          "base_uri": "https://localhost:8080/"
        },
        "outputId": "0c231c5c-eb0e-4bd3-ce71-151727a9396b"
      },
      "source": [
        "# Extract embedding data for 100 feature embedding matrix\n",
        "glove_dir = os.getcwd()\n",
        "\n",
        "embeddings_index = {}\n",
        "f = open(os.path.join(glove_dir, 'glove.6B.100d.txt'))\n",
        "for line in f:\n",
        "    values = line.split()\n",
        "    word = values[0]\n",
        "    coefs = np.asarray(values[1:], dtype='float32')\n",
        "    embeddings_index[word] = coefs\n",
        "f.close()\n",
        "\n",
        "print('Found %s word vectors.' % len(embeddings_index))"
      ],
      "execution_count": null,
      "outputs": [
        {
          "output_type": "stream",
          "name": "stdout",
          "text": [
            "Found 400001 word vectors.\n"
          ]
        }
      ]
    },
    {
      "cell_type": "code",
      "metadata": {
        "id": "qYAaB4Z9w55d"
      },
      "source": [
        "# Build embedding matrix\n",
        "embedding_dim = 100 # change if you use txt files using larger number of features\n",
        "\n",
        "embedding_matrix = np.zeros((max_words, embedding_dim))\n",
        "for word, i in word_index.items():\n",
        "    embedding_vector = embeddings_index.get(word)\n",
        "    if i < max_words:\n",
        "        if embedding_vector is not None:\n",
        "            # Words not found in embedding index will be all-zeros.\n",
        "            embedding_matrix[i] = embedding_vector"
      ],
      "execution_count": null,
      "outputs": []
    },
    {
      "cell_type": "code",
      "metadata": {
        "id": "Lpqy1QJqxI0m",
        "colab": {
          "base_uri": "https://localhost:8080/"
        },
        "outputId": "1b803046-25aa-4ad5-f8f8-4ecdc7272bc0"
      },
      "source": [
        "# Set up same model architecture as before and then import GloVe weights to \n",
        "# the Embedding layer:\n",
        "\n",
        "model = Sequential()\n",
        "model.add(Embedding(max_words, embedding_dim, input_length=maxlen))\n",
        "model.add(Flatten())\n",
        "model.add(Dense(32, activation='relu'))\n",
        "model.add(Dense(1, activation='sigmoid'))\n",
        "model.summary()\n",
        "\n"
      ],
      "execution_count": null,
      "outputs": [
        {
          "output_type": "stream",
          "name": "stdout",
          "text": [
            "Model: \"sequential_3\"\n",
            "_________________________________________________________________\n",
            " Layer (type)                Output Shape              Param #   \n",
            "=================================================================\n",
            " embedding_3 (Embedding)     (None, 100, 100)          1000000   \n",
            "                                                                 \n",
            " flatten_2 (Flatten)         (None, 10000)             0         \n",
            "                                                                 \n",
            " dense_2 (Dense)             (None, 32)                320032    \n",
            "                                                                 \n",
            " dense_3 (Dense)             (None, 1)                 33        \n",
            "                                                                 \n",
            "=================================================================\n",
            "Total params: 1,320,065\n",
            "Trainable params: 1,320,065\n",
            "Non-trainable params: 0\n",
            "_________________________________________________________________\n"
          ]
        }
      ]
    },
    {
      "cell_type": "code",
      "metadata": {
        "id": "K-GB3K1uzFU1",
        "colab": {
          "base_uri": "https://localhost:8080/"
        },
        "outputId": "30eefe73-f6d9-4547-e8c5-84ddabd43e7b"
      },
      "source": [
        "\n",
        "# Add weights in same manner as transfer learning and turn of trainable option \n",
        "# before fitting model to freeze weights.\n",
        "model.layers[0].set_weights([embedding_matrix])\n",
        "model.layers[0].trainable = False\n",
        "\n",
        "\n",
        "\n",
        "model.compile(optimizer='rmsprop',\n",
        "              loss='binary_crossentropy',\n",
        "              metrics=['acc'])\n",
        "history = model.fit(x_train, y_train,\n",
        "                    epochs=10,\n",
        "                    batch_size=32,\n",
        "                    validation_data=(x_val, y_val))\n",
        "model.save_weights('pre_trained_glove_model.h5')\n",
        "\n",
        "\n",
        "# Training data small to speed up training. Increase for better fit.\n"
      ],
      "execution_count": null,
      "outputs": [
        {
          "output_type": "stream",
          "name": "stdout",
          "text": [
            "Epoch 1/10\n",
            "313/313 [==============================] - 4s 12ms/step - loss: 0.6962 - acc: 0.6078 - val_loss: 0.6405 - val_acc: 0.6317\n",
            "Epoch 2/10\n",
            "313/313 [==============================] - 4s 14ms/step - loss: 0.5521 - acc: 0.7197 - val_loss: 0.6942 - val_acc: 0.6270\n",
            "Epoch 3/10\n",
            "313/313 [==============================] - 5s 16ms/step - loss: 0.4781 - acc: 0.7695 - val_loss: 0.6016 - val_acc: 0.6943\n",
            "Epoch 4/10\n",
            "313/313 [==============================] - 5s 15ms/step - loss: 0.4319 - acc: 0.8028 - val_loss: 0.6410 - val_acc: 0.6768\n",
            "Epoch 5/10\n",
            "313/313 [==============================] - 4s 14ms/step - loss: 0.3737 - acc: 0.8302 - val_loss: 0.6261 - val_acc: 0.6980\n",
            "Epoch 6/10\n",
            "313/313 [==============================] - 5s 16ms/step - loss: 0.3332 - acc: 0.8566 - val_loss: 0.6716 - val_acc: 0.6914\n",
            "Epoch 7/10\n",
            "313/313 [==============================] - 5s 16ms/step - loss: 0.2851 - acc: 0.8793 - val_loss: 0.7739 - val_acc: 0.6759\n",
            "Epoch 8/10\n",
            "313/313 [==============================] - 5s 16ms/step - loss: 0.2483 - acc: 0.9002 - val_loss: 0.7299 - val_acc: 0.6911\n",
            "Epoch 9/10\n",
            "313/313 [==============================] - 5s 16ms/step - loss: 0.2065 - acc: 0.9159 - val_loss: 0.8498 - val_acc: 0.6822\n",
            "Epoch 10/10\n",
            "313/313 [==============================] - 5s 14ms/step - loss: 0.1694 - acc: 0.9323 - val_loss: 0.8769 - val_acc: 0.6880\n"
          ]
        }
      ]
    },
    {
      "cell_type": "code",
      "metadata": {
        "id": "PHYhpu9Izfh1"
      },
      "source": [
        "# Evaluate model on test set (need to preprocess test data to same structure first)\n",
        "\n",
        "test_dir = os.path.join(imdb_dir, 'test')\n",
        "\n",
        "labels = []\n",
        "texts = []\n",
        "\n",
        "for label_type in ['neg', 'pos']:\n",
        "    dir_name = os.path.join(test_dir, label_type)\n",
        "    for fname in sorted(os.listdir(dir_name)):\n",
        "        if fname[-4:] == '.txt':\n",
        "            f = open(os.path.join(dir_name, fname))\n",
        "            texts.append(f.read())\n",
        "            f.close()\n",
        "            if label_type == 'neg':\n",
        "                labels.append(0)\n",
        "            else:\n",
        "                labels.append(1)\n",
        "\n",
        "#using tokenizer object we fit to test data above\n",
        "sequences = tokenizer.texts_to_sequences(texts)\n",
        "x_test = pad_sequences(sequences, maxlen=maxlen)\n",
        "y_test = np.asarray(labels)"
      ],
      "execution_count": null,
      "outputs": []
    },
    {
      "cell_type": "code",
      "metadata": {
        "id": "kqorhBl7z4GW",
        "colab": {
          "base_uri": "https://localhost:8080/"
        },
        "outputId": "8fd79e7c-d5b9-4867-a61a-fd1e78b1c473"
      },
      "source": [
        "model.load_weights('pre_trained_glove_model.h5')\n",
        "model.evaluate(x_test, y_test)\n",
        "\n"
      ],
      "execution_count": null,
      "outputs": [
        {
          "output_type": "stream",
          "name": "stdout",
          "text": [
            "782/782 [==============================] - 2s 3ms/step - loss: 0.8743 - acc: 0.6894\n"
          ]
        },
        {
          "output_type": "execute_result",
          "data": {
            "text/plain": [
              "[0.874281644821167, 0.6893600225448608]"
            ]
          },
          "metadata": {},
          "execution_count": 40
        }
      ]
    },
    {
      "cell_type": "markdown",
      "metadata": {
        "id": "zQhhrKWK0vz8"
      },
      "source": [
        "## Fitting sequential models to text data"
      ]
    },
    {
      "cell_type": "code",
      "metadata": {
        "id": "NR73_90Rz72g",
        "colab": {
          "base_uri": "https://localhost:8080/"
        },
        "outputId": "3f933d37-f95c-47db-8be9-d799a3f29617"
      },
      "source": [
        "# Example 1: simple RNN\n",
        "from tensorflow.keras.layers import SimpleRNN, LSTM\n",
        "from tensorflow.keras.models import Sequential\n",
        "from tensorflow.keras.layers import Embedding, SimpleRNN\n",
        "\n",
        "model = Sequential()\n",
        "model.add(Embedding(10000, 32, input_length=maxlen))\n",
        "model.add(SimpleRNN(32))\n",
        "model.add(Dense(1, activation='sigmoid'))\n",
        "\n",
        "model.compile(optimizer='rmsprop', loss='binary_crossentropy', metrics=['acc'])\n",
        "history = model.fit(x_train, y_train,\n",
        "                    epochs=10,\n",
        "                    batch_size=32,\n",
        "                    validation_split=0.2)\n",
        "\n",
        "# Small training data.  Increase for model improvement"
      ],
      "execution_count": null,
      "outputs": [
        {
          "output_type": "stream",
          "name": "stdout",
          "text": [
            "Epoch 1/10\n",
            "250/250 [==============================] - 8s 25ms/step - loss: 0.6384 - acc: 0.6101 - val_loss: 0.5320 - val_acc: 0.7385\n",
            "Epoch 2/10\n",
            "250/250 [==============================] - 6s 24ms/step - loss: 0.3903 - acc: 0.8307 - val_loss: 0.4203 - val_acc: 0.8110\n",
            "Epoch 3/10\n",
            "250/250 [==============================] - 6s 24ms/step - loss: 0.2508 - acc: 0.9015 - val_loss: 0.4592 - val_acc: 0.8140\n",
            "Epoch 4/10\n",
            "250/250 [==============================] - 7s 26ms/step - loss: 0.1515 - acc: 0.9469 - val_loss: 0.5310 - val_acc: 0.7765\n",
            "Epoch 5/10\n",
            "250/250 [==============================] - 6s 24ms/step - loss: 0.0787 - acc: 0.9746 - val_loss: 0.6138 - val_acc: 0.7820\n",
            "Epoch 6/10\n",
            "250/250 [==============================] - 6s 24ms/step - loss: 0.0386 - acc: 0.9885 - val_loss: 0.6454 - val_acc: 0.7945\n",
            "Epoch 7/10\n",
            "250/250 [==============================] - 6s 24ms/step - loss: 0.0200 - acc: 0.9942 - val_loss: 0.8777 - val_acc: 0.7450\n",
            "Epoch 8/10\n",
            "250/250 [==============================] - 6s 24ms/step - loss: 0.0136 - acc: 0.9964 - val_loss: 0.8685 - val_acc: 0.7640\n",
            "Epoch 9/10\n",
            "250/250 [==============================] - 6s 24ms/step - loss: 0.0057 - acc: 0.9986 - val_loss: 0.9278 - val_acc: 0.7790\n",
            "Epoch 10/10\n",
            "250/250 [==============================] - 6s 24ms/step - loss: 0.0061 - acc: 0.9979 - val_loss: 0.9728 - val_acc: 0.7660\n"
          ]
        }
      ]
    },
    {
      "cell_type": "code",
      "metadata": {
        "id": "Xl_uowG25kae",
        "colab": {
          "base_uri": "https://localhost:8080/"
        },
        "outputId": "6bba65a4-13d7-449c-9a7a-c3e852e0fdf2"
      },
      "source": [
        "# Example 2: Stacked RNN layers\n",
        "\n",
        "model = Sequential()\n",
        "model.add(Embedding(10000, 32, input_length=maxlen))\n",
        "model.add(LSTM(32, return_sequences=True))\n",
        "model.add(SimpleRNN(32, return_sequences=True))\n",
        "model.add(SimpleRNN(32, return_sequences=True))\n",
        "model.add(SimpleRNN(32))\n",
        "model.add(Dense(1, activation='sigmoid'))\n",
        "\n",
        "model.compile(optimizer='rmsprop', loss='binary_crossentropy', metrics=['acc'])\n",
        "history = model.fit(x_train, y_train,\n",
        "                    epochs=10,\n",
        "                    batch_size=32,\n",
        "                    validation_split=0.2)\n",
        "\n",
        "# Small training data.  Increase for model improvement"
      ],
      "execution_count": null,
      "outputs": [
        {
          "output_type": "stream",
          "name": "stdout",
          "text": [
            "Epoch 1/10\n",
            "250/250 [==============================] - 28s 95ms/step - loss: 0.6538 - acc: 0.5795 - val_loss: 0.4650 - val_acc: 0.7870\n",
            "Epoch 2/10\n",
            "250/250 [==============================] - 23s 92ms/step - loss: 0.3837 - acc: 0.8354 - val_loss: 0.4851 - val_acc: 0.7610\n",
            "Epoch 3/10\n",
            "250/250 [==============================] - 23s 92ms/step - loss: 0.2629 - acc: 0.8946 - val_loss: 0.5185 - val_acc: 0.8155\n",
            "Epoch 4/10\n",
            "250/250 [==============================] - 23s 91ms/step - loss: 0.1910 - acc: 0.9314 - val_loss: 0.5072 - val_acc: 0.8245\n",
            "Epoch 5/10\n",
            "250/250 [==============================] - 23s 91ms/step - loss: 0.1322 - acc: 0.9525 - val_loss: 0.4778 - val_acc: 0.8315\n",
            "Epoch 6/10\n",
            "250/250 [==============================] - 23s 92ms/step - loss: 0.0836 - acc: 0.9720 - val_loss: 0.5387 - val_acc: 0.8215\n",
            "Epoch 7/10\n",
            "250/250 [==============================] - 23s 91ms/step - loss: 0.0474 - acc: 0.9864 - val_loss: 0.6700 - val_acc: 0.8085\n",
            "Epoch 8/10\n",
            "250/250 [==============================] - 23s 92ms/step - loss: 0.0310 - acc: 0.9914 - val_loss: 0.7225 - val_acc: 0.8100\n",
            "Epoch 9/10\n",
            "250/250 [==============================] - 23s 92ms/step - loss: 0.0166 - acc: 0.9946 - val_loss: 0.9806 - val_acc: 0.8215\n",
            "Epoch 10/10\n",
            "250/250 [==============================] - 23s 93ms/step - loss: 0.0088 - acc: 0.9977 - val_loss: 0.9644 - val_acc: 0.8030\n"
          ]
        }
      ]
    },
    {
      "cell_type": "code",
      "metadata": {
        "id": "2gxDdKbi53z7",
        "colab": {
          "base_uri": "https://localhost:8080/"
        },
        "outputId": "e154339d-5cca-4ef4-a7fc-3e42a292a1f2"
      },
      "source": [
        "# Example 3: LSTM layer\n",
        "\n",
        "model = Sequential()\n",
        "model.add(Embedding(10000, 32, input_length=maxlen))\n",
        "model.add(LSTM(32))\n",
        "model.add(Dense(1, activation='sigmoid'))\n",
        "\n",
        "model.compile(optimizer='rmsprop', loss='binary_crossentropy', metrics=['acc'])\n",
        "history = model.fit(x_train, y_train,\n",
        "                    epochs=10,\n",
        "                    batch_size=32,\n",
        "                    validation_split=0.2)\n",
        "\n",
        "# Small training data.  Increase for model improvement"
      ],
      "execution_count": null,
      "outputs": [
        {
          "output_type": "stream",
          "name": "stdout",
          "text": [
            "Epoch 1/10\n",
            "250/250 [==============================] - 13s 44ms/step - loss: 0.5487 - acc: 0.7169 - val_loss: 0.4145 - val_acc: 0.8330\n",
            "Epoch 2/10\n",
            "250/250 [==============================] - 10s 39ms/step - loss: 0.3101 - acc: 0.8733 - val_loss: 0.3768 - val_acc: 0.8330\n",
            "Epoch 3/10\n",
            "250/250 [==============================] - 10s 40ms/step - loss: 0.2326 - acc: 0.9101 - val_loss: 0.4331 - val_acc: 0.8355\n",
            "Epoch 4/10\n",
            "250/250 [==============================] - 10s 40ms/step - loss: 0.1921 - acc: 0.9311 - val_loss: 0.4009 - val_acc: 0.8230\n",
            "Epoch 5/10\n",
            "250/250 [==============================] - 10s 39ms/step - loss: 0.1564 - acc: 0.9450 - val_loss: 0.4131 - val_acc: 0.8350\n",
            "Epoch 6/10\n",
            "250/250 [==============================] - 10s 39ms/step - loss: 0.1334 - acc: 0.9530 - val_loss: 0.4312 - val_acc: 0.8335\n",
            "Epoch 7/10\n",
            "250/250 [==============================] - 10s 40ms/step - loss: 0.1140 - acc: 0.9604 - val_loss: 0.5131 - val_acc: 0.8190\n",
            "Epoch 8/10\n",
            "250/250 [==============================] - 10s 39ms/step - loss: 0.0975 - acc: 0.9651 - val_loss: 0.4948 - val_acc: 0.8315\n",
            "Epoch 9/10\n",
            "250/250 [==============================] - 10s 40ms/step - loss: 0.0865 - acc: 0.9714 - val_loss: 0.6400 - val_acc: 0.8275\n",
            "Epoch 10/10\n",
            "250/250 [==============================] - 10s 40ms/step - loss: 0.0739 - acc: 0.9749 - val_loss: 0.7797 - val_acc: 0.8155\n"
          ]
        }
      ]
    },
    {
      "cell_type": "code",
      "metadata": {
        "id": "Ql2SgghF9n-q",
        "colab": {
          "base_uri": "https://localhost:8080/"
        },
        "outputId": "373a94e4-c898-4cc3-9100-85c925e2c309"
      },
      "source": [
        "#Example 4: Bidirectional LSTM\n",
        "from tensorflow.keras.layers import Embedding, Bidirectional\n",
        "\n",
        "model = Sequential()\n",
        "model.add(Embedding(10000, 32, input_length=maxlen))\n",
        "model.add(Bidirectional(LSTM(32)))\n",
        "model.add(Dense(1, activation='sigmoid'))\n",
        "\n",
        "model.compile(optimizer='rmsprop', loss='binary_crossentropy', metrics=['acc'])\n",
        "history = model.fit(x_train, y_train, epochs=10, batch_size=128, validation_split=0.2)"
      ],
      "execution_count": null,
      "outputs": [
        {
          "output_type": "stream",
          "name": "stdout",
          "text": [
            "Epoch 1/10\n",
            "63/63 [==============================] - 14s 158ms/step - loss: 0.6167 - acc: 0.6671 - val_loss: 0.4570 - val_acc: 0.7980\n",
            "Epoch 2/10\n",
            "63/63 [==============================] - 9s 143ms/step - loss: 0.3685 - acc: 0.8487 - val_loss: 0.4145 - val_acc: 0.8255\n",
            "Epoch 3/10\n",
            "63/63 [==============================] - 9s 138ms/step - loss: 0.2744 - acc: 0.8925 - val_loss: 0.4138 - val_acc: 0.8290\n",
            "Epoch 4/10\n",
            "63/63 [==============================] - 9s 139ms/step - loss: 0.2096 - acc: 0.9226 - val_loss: 0.3975 - val_acc: 0.8355\n",
            "Epoch 5/10\n",
            "63/63 [==============================] - 9s 139ms/step - loss: 0.1598 - acc: 0.9436 - val_loss: 0.6455 - val_acc: 0.7905\n",
            "Epoch 6/10\n",
            "63/63 [==============================] - 11s 179ms/step - loss: 0.1277 - acc: 0.9542 - val_loss: 0.4706 - val_acc: 0.8395\n",
            "Epoch 7/10\n",
            "63/63 [==============================] - 9s 142ms/step - loss: 0.1013 - acc: 0.9626 - val_loss: 0.4456 - val_acc: 0.8180\n",
            "Epoch 8/10\n",
            "63/63 [==============================] - 9s 142ms/step - loss: 0.0857 - acc: 0.9685 - val_loss: 0.5546 - val_acc: 0.8230\n",
            "Epoch 9/10\n",
            "63/63 [==============================] - 9s 140ms/step - loss: 0.0620 - acc: 0.9772 - val_loss: 0.6441 - val_acc: 0.8180\n",
            "Epoch 10/10\n",
            "63/63 [==============================] - 9s 139ms/step - loss: 0.0502 - acc: 0.9843 - val_loss: 0.6489 - val_acc: 0.8170\n"
          ]
        }
      ]
    },
    {
      "cell_type": "markdown",
      "metadata": {
        "id": "lAHcMGPu6b5l"
      },
      "source": [
        "### Some Dropout Examples for LSTM layers\n",
        "Dropout was a difficult puzzle for sequential models.  Solved relatively recently by dropping out on same hidden node locations at each time step.\n",
        "\n",
        "`LSTM(128, dropout=0.2, recurrent_dropout=0.2))` \n",
        "\n",
        "    dropout: Float between 0 and 1.  \n",
        "        Fraction of the units to drop for  \n",
        "        the linear transformation of the inputs.  \n",
        "    recurrent_dropout: Float between 0 and 1.  \n",
        "        Fraction of the units to drop for  \n",
        "        the linear transformation of the recurrent state."
      ]
    },
    {
      "cell_type": "code",
      "metadata": {
        "id": "VCSijr4L5wbg",
        "colab": {
          "base_uri": "https://localhost:8080/"
        },
        "outputId": "ee8914cd-eed0-4710-8dee-05cae75bf287"
      },
      "source": [
        "model = Sequential()\n",
        "model.add(Embedding(10000, 32, input_length=maxlen))\n",
        "model.add(LSTM(128, dropout=0.2, recurrent_dropout=0.2)) \n",
        "model.add(Dense(1, activation='sigmoid'))\n",
        "\n",
        "# try using different optimizers and different optimizer configs\n",
        "\n",
        "model.compile(optimizer='rmsprop', loss='binary_crossentropy', metrics=['acc'])\n",
        "history = model.fit(x_train, y_train,\n",
        "                    epochs=1,\n",
        "                    batch_size=32,\n",
        "                    validation_split=0.2)"
      ],
      "execution_count": null,
      "outputs": [
        {
          "output_type": "stream",
          "name": "stdout",
          "text": [
            "250/250 [==============================] - 61s 237ms/step - loss: 0.5651 - acc: 0.7271 - val_loss: 0.4019 - val_acc: 0.8225\n"
          ]
        }
      ]
    },
    {
      "cell_type": "code",
      "metadata": {
        "colab": {
          "base_uri": "https://localhost:8080/"
        },
        "id": "ciVegdyrLuLV",
        "outputId": "1242b5b0-8d73-4510-833f-6382b2250baa"
      },
      "source": [
        "score, acc = model.evaluate(x_test, y_test)\n",
        "print('Test score:', score)\n",
        "print('Test accuracy:', acc)"
      ],
      "execution_count": null,
      "outputs": [
        {
          "output_type": "stream",
          "name": "stdout",
          "text": [
            "782/782 [==============================] - 25s 32ms/step - loss: 0.3928 - acc: 0.8240\n",
            "Test score: 0.3928277790546417\n",
            "Test accuracy: 0.8240000009536743\n"
          ]
        }
      ]
    },
    {
      "cell_type": "markdown",
      "metadata": {
        "id": "zOAuHo3v7QmZ"
      },
      "source": [
        "## Sequential models using 1D Convnets"
      ]
    },
    {
      "cell_type": "code",
      "metadata": {
        "id": "HAjse-QU7bNi",
        "colab": {
          "base_uri": "https://localhost:8080/"
        },
        "outputId": "7ce1a447-b8b6-47a8-8498-19bca9fd398e"
      },
      "source": [
        "# Use 1D Conv layer rather than RNN or LSTM or GRU to fit model\n",
        "# Why? Much lighter model to fit. Here we are training on the full dataset. \n",
        "# If you try to build a model using LSTM code after running this one it will \n",
        "# be much slower.\n",
        "\n",
        "from tensorflow.keras.models import Sequential\n",
        "from tensorflow.keras import layers\n",
        "from tensorflow.keras.optimizers import RMSprop\n",
        "from tensorflow.keras.layers import SimpleRNN, LSTM, Embedding\n",
        "\n",
        "model = Sequential()\n",
        "model.add(layers.Embedding(10000, 8, input_length=maxlen))\n",
        "model.add(layers.Conv1D(32, 7, activation='relu')) \n",
        "model.add(layers.MaxPooling1D(5)) #\n",
        "model.add(layers.Conv1D(32, 7, activation='relu'))\n",
        "model.add(layers.GlobalMaxPooling1D())\n",
        "model.add(layers.Dense(1))\n",
        "\n",
        "model.summary()\n",
        "\n",
        "\n",
        "\n"
      ],
      "execution_count": null,
      "outputs": [
        {
          "output_type": "stream",
          "name": "stdout",
          "text": [
            "Model: \"sequential_9\"\n",
            "_________________________________________________________________\n",
            " Layer (type)                Output Shape              Param #   \n",
            "=================================================================\n",
            " embedding_9 (Embedding)     (None, 100, 8)            80000     \n",
            "                                                                 \n",
            " conv1d (Conv1D)             (None, 94, 32)            1824      \n",
            "                                                                 \n",
            " max_pooling1d (MaxPooling1D  (None, 18, 32)           0         \n",
            " )                                                               \n",
            "                                                                 \n",
            " conv1d_1 (Conv1D)           (None, 12, 32)            7200      \n",
            "                                                                 \n",
            " global_max_pooling1d (Globa  (None, 32)               0         \n",
            " lMaxPooling1D)                                                  \n",
            "                                                                 \n",
            " dense_9 (Dense)             (None, 1)                 33        \n",
            "                                                                 \n",
            "=================================================================\n",
            "Total params: 89,057\n",
            "Trainable params: 89,057\n",
            "Non-trainable params: 0\n",
            "_________________________________________________________________\n"
          ]
        }
      ]
    },
    {
      "cell_type": "code",
      "metadata": {
        "colab": {
          "base_uri": "https://localhost:8080/"
        },
        "id": "heCncpKHQJ8c",
        "outputId": "2497b523-51be-46bc-870a-07160d6fba7b"
      },
      "source": [
        "model.compile(optimizer=RMSprop(learning_rate=1e-4),\n",
        "              loss='binary_crossentropy',\n",
        "              metrics=['acc'])\n",
        "history = model.fit(x_train, y_train,\n",
        "                    epochs=1,\n",
        "                    batch_size=128,\n",
        "                    validation_split=0.2)"
      ],
      "execution_count": null,
      "outputs": [
        {
          "output_type": "stream",
          "name": "stdout",
          "text": [
            "63/63 [==============================] - 3s 31ms/step - loss: 7.7260 - acc: 0.4991 - val_loss: 7.5814 - val_acc: 0.5085\n"
          ]
        }
      ]
    },
    {
      "cell_type": "code",
      "metadata": {
        "colab": {
          "base_uri": "https://localhost:8080/"
        },
        "id": "So9uIdDkVNMA",
        "outputId": "13e74f72-d55b-4331-ccc3-e6b564988bbf"
      },
      "source": [
        "# How to write a preprocessor function for text preprocessing using keras?\n",
        "\n",
        "def preprocessor(textinput, maxlen=100):\n",
        "        from tensorflow.keras.preprocessing.text import Tokenizer\n",
        "        from tensorflow.keras.preprocessing.sequence import pad_sequences        \n",
        "\n",
        "        sequences = tokenizer.texts_to_sequences(textinput) # converts words in each text to each word's numeric index in tokenizer dictionary.\n",
        "\n",
        "        data = pad_sequences(sequences, maxlen=maxlen)\n",
        "        return data\n",
        "\n",
        "\n",
        "\n",
        "#See preprocessor output\n",
        "print(preprocessor([\"This movie is amazing, wonderful, unique and beautiful! I give it five stars.\"]).shape)\n",
        "print(preprocessor([\"This movie is amazing, wonderful, unique and beautiful! I give it five stars.\"]))\n",
        "\n",
        "print(model.predict(preprocessor([\"This movie is amazing, wonderful, unique and beautiful! I give it five stars.\"])))\n",
        "print(model.predict(preprocessor([\"This movie is horrible.\"])))\n"
      ],
      "execution_count": null,
      "outputs": [
        {
          "output_type": "stream",
          "name": "stdout",
          "text": [
            "(1, 100)\n",
            "[[  0   0   0   0   0   0   0   0   0   0   0   0   0   0   0   0   0   0\n",
            "    0   0   0   0   0   0   0   0   0   0   0   0   0   0   0   0   0   0\n",
            "    0   0   0   0   0   0   0   0   0   0   0   0   0   0   0   0   0   0\n",
            "    0   0   0   0   0   0   0   0   0   0   0   0   0   0   0   0   0   0\n",
            "    0   0   0   0   0   0   0   0   0   0   0   0   0   0   0  11  17   6\n",
            "  477 386 952   2 304  10 199   9 674 379]]\n",
            "[[-0.0392569]]\n",
            "[[-0.01441896]]\n"
          ]
        }
      ]
    }
  ]
}