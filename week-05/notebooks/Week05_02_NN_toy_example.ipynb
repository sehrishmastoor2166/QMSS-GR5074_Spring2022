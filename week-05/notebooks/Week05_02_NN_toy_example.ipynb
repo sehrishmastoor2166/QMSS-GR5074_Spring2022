{
  "nbformat": 4,
  "nbformat_minor": 0,
  "metadata": {
    "colab": {
      "name": "Neural Networks from Scratch(1).ipynb",
      "provenance": [],
      "collapsed_sections": []
    },
    "language_info": {
      "codemirror_mode": {
        "name": "ipython",
        "version": 3
      },
      "file_extension": ".py",
      "mimetype": "text/x-python",
      "name": "python",
      "nbconvert_exporter": "python",
      "pygments_lexer": "ipython3",
      "version": "3.6.4"
    },
    "kernelspec": {
      "display_name": "Python 3",
      "language": "python",
      "name": "python3"
    }
  },
  "cells": [
    {
      "cell_type": "markdown",
      "metadata": {
        "id": "6WPVay0e7Ryr"
      },
      "source": [
        "# Neural Networks from Scratch"
      ]
    },
    {
      "cell_type": "code",
      "metadata": {
        "id": "CPhgb1CD7Rys"
      },
      "source": [
        "#Setup\n",
        "#Let’s begin by preparing our environment and seeding the random number generator properly:\n",
        "\n",
        "import numpy as np\n",
        "import matplotlib.pyplot as plt\n",
        "import seaborn as sns\n",
        "from pylab import rcParams\n",
        "\n",
        "import math\n",
        "\n",
        "%matplotlib inline\n",
        "\n",
        "sns.set(style='whitegrid', palette='muted', font_scale=1.5)\n",
        "\n",
        "rcParams['figure.figsize'] = 12, 6\n",
        "\n",
        "\n",
        "\n"
      ],
      "execution_count": 1,
      "outputs": []
    },
    {
      "cell_type": "code",
      "metadata": {
        "id": "UircYDol7Ryv"
      },
      "source": [
        "RANDOM_SEED = 42\n",
        "\n",
        "np.random.seed(RANDOM_SEED)\n"
      ],
      "execution_count": 2,
      "outputs": []
    },
    {
      "cell_type": "markdown",
      "metadata": {
        "id": "Ymy3tKVu7Ryy"
      },
      "source": [
        "## Sigmoid activations (and Sigmoid derivative)\n",
        "\n",
        "The sigmoid function takes a function of weights multiplied by input values (plus some bias) and converts the sum of these numbers to results between zero and one.  We will also use its derivative for backpropagation.\n",
        "\n",
        "The sigmoid function is used quite commonly in the realm of deep learning, at least it was until recently. It has distinct S shape and it is a differentiable real function for any real input value. Additionally, it has a positive derivative at each point. More importantly, we will use it as an activation function for the hidden layer of our model. Here’s how it is defined:\n",
        "\n",
        "It’s first derivative (which we will use during the backpropagation step of our training algorithm) has the following formula:\n",
        "\n",
        "![sigmoid](https://cdn-images-1.medium.com/max/800/1*-PkQzu0E21YEbI9wvqvQzg.png)\n",
        "\n",
        "\n",
        "So, the derivative can be expressed using the original sigmoid function. \n",
        "\n",
        "![sigmoid prime](https://cdn-images-1.medium.com/max/800/1*yT0ToBoL4o9eTgph6BWx4Q.png)\n"
      ]
    },
    {
      "cell_type": "code",
      "metadata": {
        "id": "oBtovYQI7Ryy",
        "colab": {
          "base_uri": "https://localhost:8080/",
          "height": 298
        },
        "outputId": "c3372113-f8e0-4a83-c92c-6ad985e8719e"
      },
      "source": [
        "\n",
        "x = np.linspace(-10., 10., num=100)\n",
        "\n",
        "#create sigmoid fxn\n",
        "\n",
        "def sigmoid (x): return 1/(1 + np.exp(-x))      # activation function\n",
        "def sigmoid_prime(x): return sigmoid(x) * (1 - sigmoid(x))             # derivative of sigmoid\n",
        "\n",
        "sig = sigmoid(x)\n",
        "\n",
        "\n",
        "sig_prime = sigmoid_prime(x)\n",
        "\n",
        "plt.plot(x, sig, label=\"sigmoid\")\n",
        "plt.plot(x, sig_prime, label=\"sigmoid derivative\")\n",
        "plt.xlabel(\"x\")\n",
        "plt.ylabel(\"y\")\n",
        "plt.legend(prop={'size' : 16})\n",
        "plt.show()"
      ],
      "execution_count": 3,
      "outputs": [
        {
          "output_type": "display_data",
          "data": {
            "image/png": "[encoded data removed]",
            "text/plain": [
              "<Figure size 432x288 with 1 Axes>"
            ]
          },
          "metadata": {
            "needs_background": "light"
          }
        }
      ]
    },
    {
      "cell_type": "markdown",
      "metadata": {
        "id": "yzRqaAn07Ry3"
      },
      "source": [
        "# Build a simple X and y dataset"
      ]
    },
    {
      "cell_type": "code",
      "metadata": {
        "id": "-2qdchvT7Ry4",
        "colab": {
          "base_uri": "https://localhost:8080/"
        },
        "outputId": "4e4e21f4-7b4f-457a-f9f9-f747819c3b99"
      },
      "source": [
        "X = np.array([[0,0], [0,1], [1,0], [1,1]])\n",
        "Y = np.array([ [0],   [1],   [1],   [0]])\n",
        "\n",
        "print(X)\n",
        "print(X.shape)\n",
        "print(Y)\n",
        "print(Y.shape)\n"
      ],
      "execution_count": 4,
      "outputs": [
        {
          "output_type": "stream",
          "name": "stdout",
          "text": [
            "[[0 0]\n",
            " [0 1]\n",
            " [1 0]\n",
            " [1 1]]\n",
            "(4, 2)\n",
            "[[0]\n",
            " [1]\n",
            " [1]\n",
            " [0]]\n",
            "(4, 1)\n"
          ]
        }
      ]
    },
    {
      "cell_type": "markdown",
      "metadata": {
        "id": "UeoLkEF47Ry6"
      },
      "source": [
        "# Set parameters for Network\n",
        "\n",
        "### Examples of parameters\n",
        "**epochs:** the number of iterations we run to minimize error and update weights and biases during backpropagation\n",
        "\n",
        "**inputLayerSize:** The number of features in X\n",
        "\n",
        "**hiddenLayerSize:** How many hidden neurons will be in our hidden layer\n",
        "\n",
        "**outputLayerSize:** The length of our output layer.  For regression problems it is one.  For binary categorization it is one (a predicted probability between zero and one). And for larger categories its the number of categories you will predict.\n",
        "        \n",
        "Other typical parameters-\n",
        "\n",
        "learning rate: .01 or .001 typically.  Used to multiply by gradient adjustments to weights and biases in backpropagation\n",
        "                    Will slow down the learning process.\n",
        "                    \n",
        "number of hidden layers:  We can have more than one hidden layer.  Typically we experiment with two or three to find the best predictive model."
      ]
    },
    {
      "cell_type": "code",
      "metadata": {
        "id": "BtcZyKAS7Ry7"
      },
      "source": [
        "# Set parameters for example network\n",
        "epochs = 6000 # Number of iterations\n",
        "\n",
        "inputLayerSize = 2 # Number of X features\n",
        "hiddenLayerSize = 3 # Three neurons in single hidden layer\n",
        "outputLayerSize = 1 # Single neuron in output layer"
      ],
      "execution_count": 5,
      "outputs": []
    },
    {
      "cell_type": "code",
      "metadata": {
        "id": "QH3iEgH67Ry9",
        "colab": {
          "base_uri": "https://localhost:8080/"
        },
        "outputId": "33250bd2-8965-44f8-9e37-c708d2c7f83f"
      },
      "source": [
        "# We'll create a super simple model that doesn't even include biases\n",
        "\n",
        "# Initialize random weights\n",
        "\n",
        "Wh = np.random.uniform(size=(inputLayerSize, hiddenLayerSize))\n",
        "Wz = np.random.uniform(size=(hiddenLayerSize,outputLayerSize))\n",
        "\n",
        "print(Wh)\n",
        "print(Wz)\n"
      ],
      "execution_count": 6,
      "outputs": [
        {
          "output_type": "stream",
          "name": "stdout",
          "text": [
            "[[0.37454012 0.95071431 0.73199394]\n",
            " [0.59865848 0.15601864 0.15599452]]\n",
            "[[0.05808361]\n",
            " [0.86617615]\n",
            " [0.60111501]]\n"
          ]
        }
      ]
    },
    {
      "cell_type": "code",
      "metadata": {
        "id": "axZQLYQ97RzA",
        "colab": {
          "base_uri": "https://localhost:8080/"
        },
        "outputId": "e8434495-5e0a-49aa-9b91-fe125f41ca99"
      },
      "source": [
        "# We use matrix multiplication to multiply these weights by input X values first\n",
        "# Then we take the result and multiply that by the sigmoid function\n",
        "H = sigmoid(np.dot(X, Wh)) \n",
        "\n",
        "Z = sigmoid(np.dot(H, Wz))                  # output layer results from random initial weights\n",
        "\n",
        "E = Y - Z                                   # how much we missed (error) \n",
        "\n",
        "print(H) # print output from sigmoid transformation of hidden layer for each row of X\n",
        "print(Y) # print Y\n",
        "print(Z) # print predictions\n",
        "print(E) # print error"
      ],
      "execution_count": 7,
      "outputs": [
        {
          "output_type": "stream",
          "name": "stdout",
          "text": [
            "[[0.5        0.5        0.5       ]\n",
            " [0.64534933 0.53892573 0.53891974]\n",
            " [0.59255557 0.72125881 0.67524268]\n",
            " [0.72575659 0.75151953 0.70847489]]\n",
            "[[0]\n",
            " [1]\n",
            " [1]\n",
            " [0]]\n",
            "[[0.68193691]\n",
            " [0.69598299]\n",
            " [0.74365508]\n",
            " [0.75379905]]\n",
            "[[-0.68193691]\n",
            " [ 0.30401701]\n",
            " [ 0.25634492]\n",
            " [-0.75379905]]\n"
          ]
        }
      ]
    },
    {
      "cell_type": "code",
      "metadata": {
        "id": "7g9uFuW87RzC",
        "colab": {
          "base_uri": "https://localhost:8080/"
        },
        "outputId": "dea88464-b79c-4b99-c647-77d3dc4d81e3"
      },
      "source": [
        "dZ = E * sigmoid_prime(Z)   # delta Z, gradient adjustments to Wz. (Could shrink by multiplying by learning rate)\n",
        "print(dZ)                       "
      ],
      "execution_count": 8,
      "outputs": [
        {
          "output_type": "stream",
          "name": "stdout",
          "text": [
            "[[-0.15210462]\n",
            " [ 0.06749538]\n",
            " [ 0.05598293]\n",
            " [-0.16402506]]\n"
          ]
        }
      ]
    },
    {
      "cell_type": "code",
      "metadata": {
        "id": "mRmWI4AM7RzF",
        "colab": {
          "base_uri": "https://localhost:8080/"
        },
        "outputId": "d04b944e-1d25-43a3-8b13-0d71f4792fb8"
      },
      "source": [
        "dH = dZ.dot(Wz.T) * sigmoid_prime(H)             # delta H, used to make gradient adjustments to Wh\n",
        "                                                 #(Notice we are working backwards step by step)\n",
        "print(dH)"
      ],
      "execution_count": 9,
      "outputs": [
        {
          "output_type": "stream",
          "name": "stdout",
          "text": [
            "[[-0.00207621 -0.0309616  -0.02148695]\n",
            " [ 0.00088473  0.01360381  0.00944088]\n",
            " [ 0.00074554  0.01067342  0.00752249]\n",
            " [-0.00209377 -0.03094048 -0.02179785]]\n"
          ]
        }
      ]
    },
    {
      "cell_type": "code",
      "metadata": {
        "id": "JAH2m0wX7RzK",
        "colab": {
          "base_uri": "https://localhost:8080/"
        },
        "outputId": "7b76538f-2491-4d66-fcfe-df44f2337a62"
      },
      "source": [
        "Wz +=  H.T.dot(dZ)                          # update output layer weights Wz\n",
        "Wh +=  X.T.dot(dH)                          # update hidden layer weights Wh\n",
        "\n",
        "#X.T() means we are transposing X before doing matrix multiplication\n",
        "print(Wh)\n",
        "print(Wz)"
      ],
      "execution_count": 10,
      "outputs": [
        {
          "output_type": "stream",
          "name": "stdout",
          "text": [
            "[[0.37319189 0.93044725 0.71771858]\n",
            " [0.59744945 0.13868197 0.14363755]]\n",
            "[[-0.06027987]\n",
            " [ 0.74360898]\n",
            " [ 0.48303172]]\n"
          ]
        }
      ]
    },
    {
      "cell_type": "code",
      "metadata": {
        "id": "2uM5cXBE7RzM",
        "colab": {
          "base_uri": "https://localhost:8080/"
        },
        "outputId": "370d5f58-a22a-4c08-d3c0-a44528329903"
      },
      "source": [
        "# Now let's iterate through a bunch of backpropagation steps to update weights\n",
        "\n",
        "for i in range(epochs):\n",
        " \n",
        "    H = sigmoid(np.dot(X, Wh))                  # hidden layer results\n",
        "    Z = sigmoid(np.dot(H, Wz))                  # output layer results\n",
        "    E = Y - Z                                   # how much we missed (error)\n",
        "    dZ = E * sigmoid_prime(Z)                        # delta Z\n",
        "    dH = dZ.dot(Wz.T) * sigmoid_prime(H)             # delta H\n",
        "    Wz +=  H.T.dot(dZ)                          # update output layer weights\n",
        "    Wh +=  X.T.dot(dH)                          # update hidden layer weights\n",
        "\n",
        "print(np.around(Z,3))                # Resulting training prediction for each value of Y "
      ],
      "execution_count": 11,
      "outputs": [
        {
          "output_type": "stream",
          "name": "stdout",
          "text": [
            "[[0.012]\n",
            " [0.978]\n",
            " [0.978]\n",
            " [0.019]]\n"
          ]
        }
      ]
    },
    {
      "cell_type": "markdown",
      "metadata": {
        "id": "dmBIUi2C7RzQ"
      },
      "source": [
        "### In a typical version of a network we would add a bias to our weights as well.  But that's pretty much it.  "
      ]
    },
    {
      "cell_type": "markdown",
      "metadata": {
        "id": "y3Jt4I2I89Hv"
      },
      "source": [
        "source: https://medium.com/@curiousily/tensorflow-for-hackers-part-iv-neural-network-from-scratch-1a4f504dfa8"
      ]
    }
  ]
}