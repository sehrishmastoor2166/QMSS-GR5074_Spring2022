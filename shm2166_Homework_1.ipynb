{
  "nbformat": 4,
  "nbformat_minor": 0,
  "metadata": {
    "colab": {
      "name": "shm2166 Homework 1.ipynb",
      "provenance": [],
      "collapsed_sections": [],
      "include_colab_link": true
    },
    "kernelspec": {
      "name": "python3",
      "display_name": "Python 3"
    },
    "language_info": {
      "name": "python"
    }
  },
  "cells": [
    {
      "cell_type": "markdown",
      "metadata": {
        "id": "view-in-github",
        "colab_type": "text"
      },
      "source": [
        "<a href=\"https://colab.research.google.com/github/sehrishmastoor2166/QMSS-GR5074_Spring2022/blob/main/shm2166_Homework_1.ipynb\" target=\"_parent\"><img src=\"https://colab.research.google.com/assets/colab-badge.svg\" alt=\"Open In Colab\"/></a>"
      ]
    },
    {
      "cell_type": "markdown",
      "source": [
        "<p align=\"center\"><img width=\"50%\" src=\"https://aimodelsharecontent.s3.amazonaws.com/aimodshare_banner.jpg\" /></p>\n",
        "\n",
        "\n",
        "---"
      ],
      "metadata": {
        "id": "ekczNcQxUpzT"
      }
    },
    {
      "cell_type": "markdown",
      "source": [
        "## ai model username: shm2166"
      ],
      "metadata": {
        "id": "fPMIANicLbYx"
      }
    },
    {
      "cell_type": "code",
      "source": [
        "import numpy as np \n",
        "import scipy as sp \n",
        "import pandas as pd \n",
        "import matplotlib as mpl \n",
        "import matplotlib.pyplot as plt\n",
        "import statsmodels.api as sm\n",
        "import statsmodels.formula.api as smf \n",
        "import os\n",
        "import seaborn as sns\n",
        "from sklearn import preprocessing\n",
        "from sklearn.neighbors import KNeighborsRegressor\n",
        "from sklearn.preprocessing import StandardScaler \n",
        "from sklearn.model_selection import train_test_split\n",
        "from sklearn.linear_model import LinearRegression\n",
        "from sklearn.linear_model import Ridge\n",
        "from sklearn.linear_model import Lasso\n",
        "from sklearn import svm, datasets \n",
        "from sklearn.model_selection import cross_val_score \n",
        "from sklearn.pipeline import make_pipeline\n",
        "from sklearn.model_selection import GridSearchCV\n",
        "import statsmodels.api as sm\n",
        "from sklearn.linear_model import LogisticRegression\n",
        "from sklearn.neighbors import KNeighborsClassifier\n",
        "from sklearn.model_selection import RepeatedKFold\n",
        "from sklearn.model_selection import StratifiedKFold\n",
        "from sklearn.model_selection import KFold\n",
        "from statistics import mean\n",
        "import seaborn as sns\n",
        "from sklearn.svm import SVC\n",
        "from sklearn.decomposition import PCA\n",
        "from sklearn.tree import DecisionTreeClassifier\n"
      ],
      "metadata": {
        "id": "SjCuVecWPGcN",
        "colab": {
          "base_uri": "https://localhost:8080/"
        },
        "outputId": "31553e56-9587-4d9e-c58a-13bade47cf46"
      },
      "execution_count": 1,
      "outputs": [
        {
          "output_type": "stream",
          "name": "stderr",
          "text": [
            "/usr/local/lib/python3.7/dist-packages/statsmodels/tools/_testing.py:19: FutureWarning: pandas.util.testing is deprecated. Use the functions in the public API at pandas.testing instead.\n",
            "  import pandas.util.testing as tm\n"
          ]
        }
      ]
    },
    {
      "cell_type": "markdown",
      "metadata": {
        "id": "5gSrVJwp3E9H"
      },
      "source": [
        "Get data in and set up X_train, X_test, y_train objects"
      ]
    },
    {
      "cell_type": "code",
      "metadata": {
        "id": "PLTIaMB3ChSW",
        "outputId": "02a04fa2-f9a9-4848-f468-c3a988264cb0",
        "colab": {
          "base_uri": "https://localhost:8080/",
          "height": 1000
        }
      },
      "source": [
        "#install aimodelshare library\n",
        "! pip install aimodelshare --upgrade"
      ],
      "execution_count": 2,
      "outputs": [
        {
          "output_type": "stream",
          "name": "stdout",
          "text": [
            "Collecting aimodelshare\n",
            "  Downloading aimodelshare-0.0.95-py3-none-any.whl (131 kB)\n",
            "\u001b[K     |████████████████████████████████| 131 kB 14.0 MB/s \n",
            "\u001b[?25hCollecting onnx>=1.9.0\n",
            "  Downloading onnx-1.11.0-cp37-cp37m-manylinux_2_12_x86_64.manylinux2010_x86_64.whl (12.8 MB)\n",
            "\u001b[K     |████████████████████████████████| 12.8 MB 39.3 MB/s \n",
            "\u001b[?25hRequirement already satisfied: tensorflow>=2.5.0 in /usr/local/lib/python3.7/dist-packages (from aimodelshare) (2.8.0)\n",
            "Collecting Pympler==0.9\n",
            "  Downloading Pympler-0.9.tar.gz (178 kB)\n",
            "\u001b[K     |████████████████████████████████| 178 kB 43.3 MB/s \n",
            "\u001b[?25hCollecting docker==5.0.0\n",
            "  Downloading docker-5.0.0-py2.py3-none-any.whl (146 kB)\n",
            "\u001b[K     |████████████████████████████████| 146 kB 50.7 MB/s \n",
            "\u001b[?25hCollecting keras2onnx>=1.7.0\n",
            "  Downloading keras2onnx-1.7.0-py3-none-any.whl (96 kB)\n",
            "\u001b[K     |████████████████████████████████| 96 kB 5.0 MB/s \n",
            "\u001b[?25hCollecting tf2onnx\n",
            "  Downloading tf2onnx-1.9.3-py3-none-any.whl (435 kB)\n",
            "\u001b[K     |████████████████████████████████| 435 kB 38.8 MB/s \n",
            "\u001b[?25hCollecting scikit-learn==0.24.2\n",
            "  Downloading scikit_learn-0.24.2-cp37-cp37m-manylinux2010_x86_64.whl (22.3 MB)\n",
            "\u001b[K     |████████████████████████████████| 22.3 MB 4.6 MB/s \n",
            "\u001b[?25hCollecting onnxmltools>=1.6.1\n",
            "  Downloading onnxmltools-1.10.0-py2.py3-none-any.whl (300 kB)\n",
            "\u001b[K     |████████████████████████████████| 300 kB 39.8 MB/s \n",
            "\u001b[?25hCollecting onnxconverter-common>=1.7.0\n",
            "  Downloading onnxconverter_common-1.9.0-py2.py3-none-any.whl (78 kB)\n",
            "\u001b[K     |████████████████████████████████| 78 kB 6.5 MB/s \n",
            "\u001b[?25hRequirement already satisfied: astunparse==1.6.3 in /usr/local/lib/python3.7/dist-packages (from aimodelshare) (1.6.3)\n",
            "Requirement already satisfied: xgboost>=0.90 in /usr/local/lib/python3.7/dist-packages (from aimodelshare) (0.90)\n",
            "Collecting PyJWT==2.2.0\n",
            "  Downloading PyJWT-2.2.0-py3-none-any.whl (16 kB)\n",
            "Collecting urllib3==1.25.11\n",
            "  Downloading urllib3-1.25.11-py2.py3-none-any.whl (127 kB)\n",
            "\u001b[K     |████████████████████████████████| 127 kB 41.1 MB/s \n",
            "\u001b[?25hCollecting wget==3.2\n",
            "  Downloading wget-3.2.zip (10 kB)\n",
            "Collecting botocore==1.21.2\n",
            "  Downloading botocore-1.21.2-py3-none-any.whl (7.7 MB)\n",
            "\u001b[K     |████████████████████████████████| 7.7 MB 31.5 MB/s \n",
            "\u001b[?25hCollecting onnxruntime>=1.7.0\n",
            "  Downloading onnxruntime-1.10.0-cp37-cp37m-manylinux_2_17_x86_64.manylinux2014_x86_64.whl (4.9 MB)\n",
            "\u001b[K     |████████████████████████████████| 4.9 MB 41.1 MB/s \n",
            "\u001b[?25hCollecting shortuuid>=1.0.8\n",
            "  Downloading shortuuid-1.0.8-py3-none-any.whl (9.5 kB)\n",
            "Requirement already satisfied: seaborn>=0.11.2 in /usr/local/lib/python3.7/dist-packages (from aimodelshare) (0.11.2)\n",
            "Collecting skl2onnx>=1.8.0\n",
            "  Downloading skl2onnx-1.10.4-py2.py3-none-any.whl (273 kB)\n",
            "\u001b[K     |████████████████████████████████| 273 kB 45.6 MB/s \n",
            "\u001b[?25hCollecting boto3==1.18.2\n",
            "  Downloading boto3-1.18.2-py3-none-any.whl (131 kB)\n",
            "\u001b[K     |████████████████████████████████| 131 kB 40.1 MB/s \n",
            "\u001b[?25hRequirement already satisfied: torch>=1.8.1 in /usr/local/lib/python3.7/dist-packages (from aimodelshare) (1.10.0+cu111)\n",
            "Requirement already satisfied: wheel<1.0,>=0.23.0 in /usr/local/lib/python3.7/dist-packages (from astunparse==1.6.3->aimodelshare) (0.37.1)\n",
            "Requirement already satisfied: six<2.0,>=1.6.1 in /usr/local/lib/python3.7/dist-packages (from astunparse==1.6.3->aimodelshare) (1.15.0)\n",
            "Collecting s3transfer<0.6.0,>=0.5.0\n",
            "  Downloading s3transfer-0.5.1-py3-none-any.whl (79 kB)\n",
            "\u001b[K     |████████████████████████████████| 79 kB 3.9 MB/s \n",
            "\u001b[?25hCollecting jmespath<1.0.0,>=0.7.1\n",
            "  Downloading jmespath-0.10.0-py2.py3-none-any.whl (24 kB)\n",
            "Requirement already satisfied: python-dateutil<3.0.0,>=2.1 in /usr/local/lib/python3.7/dist-packages (from botocore==1.21.2->aimodelshare) (2.8.2)\n",
            "Collecting websocket-client>=0.32.0\n",
            "  Downloading websocket_client-1.2.3-py3-none-any.whl (53 kB)\n",
            "\u001b[K     |████████████████████████████████| 53 kB 1.2 MB/s \n",
            "\u001b[?25hRequirement already satisfied: requests!=2.18.0,>=2.14.2 in /usr/local/lib/python3.7/dist-packages (from docker==5.0.0->aimodelshare) (2.23.0)\n",
            "Requirement already satisfied: joblib>=0.11 in /usr/local/lib/python3.7/dist-packages (from scikit-learn==0.24.2->aimodelshare) (1.1.0)\n",
            "Requirement already satisfied: scipy>=0.19.1 in /usr/local/lib/python3.7/dist-packages (from scikit-learn==0.24.2->aimodelshare) (1.4.1)\n",
            "Requirement already satisfied: threadpoolctl>=2.0.0 in /usr/local/lib/python3.7/dist-packages (from scikit-learn==0.24.2->aimodelshare) (3.1.0)\n",
            "Requirement already satisfied: numpy>=1.13.3 in /usr/local/lib/python3.7/dist-packages (from scikit-learn==0.24.2->aimodelshare) (1.21.5)\n",
            "Collecting fire\n",
            "  Downloading fire-0.4.0.tar.gz (87 kB)\n",
            "\u001b[K     |████████████████████████████████| 87 kB 3.7 MB/s \n",
            "\u001b[?25hRequirement already satisfied: protobuf in /usr/local/lib/python3.7/dist-packages (from keras2onnx>=1.7.0->aimodelshare) (3.17.3)\n",
            "Requirement already satisfied: typing-extensions>=3.6.2.1 in /usr/local/lib/python3.7/dist-packages (from onnx>=1.9.0->aimodelshare) (3.10.0.2)\n",
            "Requirement already satisfied: flatbuffers in /usr/local/lib/python3.7/dist-packages (from onnxruntime>=1.7.0->aimodelshare) (2.0)\n",
            "Requirement already satisfied: idna<3,>=2.5 in /usr/local/lib/python3.7/dist-packages (from requests!=2.18.0,>=2.14.2->docker==5.0.0->aimodelshare) (2.10)\n",
            "Requirement already satisfied: chardet<4,>=3.0.2 in /usr/local/lib/python3.7/dist-packages (from requests!=2.18.0,>=2.14.2->docker==5.0.0->aimodelshare) (3.0.4)\n",
            "Requirement already satisfied: certifi>=2017.4.17 in /usr/local/lib/python3.7/dist-packages (from requests!=2.18.0,>=2.14.2->docker==5.0.0->aimodelshare) (2021.10.8)\n",
            "Requirement already satisfied: pandas>=0.23 in /usr/local/lib/python3.7/dist-packages (from seaborn>=0.11.2->aimodelshare) (1.3.5)\n",
            "Requirement already satisfied: matplotlib>=2.2 in /usr/local/lib/python3.7/dist-packages (from seaborn>=0.11.2->aimodelshare) (3.2.2)\n",
            "Requirement already satisfied: kiwisolver>=1.0.1 in /usr/local/lib/python3.7/dist-packages (from matplotlib>=2.2->seaborn>=0.11.2->aimodelshare) (1.3.2)\n",
            "Requirement already satisfied: pyparsing!=2.0.4,!=2.1.2,!=2.1.6,>=2.0.1 in /usr/local/lib/python3.7/dist-packages (from matplotlib>=2.2->seaborn>=0.11.2->aimodelshare) (3.0.7)\n",
            "Requirement already satisfied: cycler>=0.10 in /usr/local/lib/python3.7/dist-packages (from matplotlib>=2.2->seaborn>=0.11.2->aimodelshare) (0.11.0)\n",
            "Requirement already satisfied: pytz>=2017.3 in /usr/local/lib/python3.7/dist-packages (from pandas>=0.23->seaborn>=0.11.2->aimodelshare) (2018.9)\n",
            "Requirement already satisfied: absl-py>=0.4.0 in /usr/local/lib/python3.7/dist-packages (from tensorflow>=2.5.0->aimodelshare) (1.0.0)\n",
            "Requirement already satisfied: setuptools in /usr/local/lib/python3.7/dist-packages (from tensorflow>=2.5.0->aimodelshare) (57.4.0)\n",
            "Requirement already satisfied: google-pasta>=0.1.1 in /usr/local/lib/python3.7/dist-packages (from tensorflow>=2.5.0->aimodelshare) (0.2.0)\n",
            "Requirement already satisfied: grpcio<2.0,>=1.24.3 in /usr/local/lib/python3.7/dist-packages (from tensorflow>=2.5.0->aimodelshare) (1.43.0)\n",
            "Requirement already satisfied: opt-einsum>=2.3.2 in /usr/local/lib/python3.7/dist-packages (from tensorflow>=2.5.0->aimodelshare) (3.3.0)\n",
            "Requirement already satisfied: keras<2.9,>=2.8.0rc0 in /usr/local/lib/python3.7/dist-packages (from tensorflow>=2.5.0->aimodelshare) (2.8.0)\n",
            "Collecting tf-estimator-nightly==2.8.0.dev2021122109\n",
            "  Downloading tf_estimator_nightly-2.8.0.dev2021122109-py2.py3-none-any.whl (462 kB)\n",
            "\u001b[K     |████████████████████████████████| 462 kB 43.7 MB/s \n",
            "\u001b[?25hRequirement already satisfied: termcolor>=1.1.0 in /usr/local/lib/python3.7/dist-packages (from tensorflow>=2.5.0->aimodelshare) (1.1.0)\n",
            "Requirement already satisfied: gast>=0.2.1 in /usr/local/lib/python3.7/dist-packages (from tensorflow>=2.5.0->aimodelshare) (0.5.3)\n",
            "Requirement already satisfied: h5py>=2.9.0 in /usr/local/lib/python3.7/dist-packages (from tensorflow>=2.5.0->aimodelshare) (3.1.0)\n",
            "Requirement already satisfied: libclang>=9.0.1 in /usr/local/lib/python3.7/dist-packages (from tensorflow>=2.5.0->aimodelshare) (13.0.0)\n",
            "Requirement already satisfied: wrapt>=1.11.0 in /usr/local/lib/python3.7/dist-packages (from tensorflow>=2.5.0->aimodelshare) (1.13.3)\n",
            "Requirement already satisfied: tensorboard<2.9,>=2.8 in /usr/local/lib/python3.7/dist-packages (from tensorflow>=2.5.0->aimodelshare) (2.8.0)\n",
            "Requirement already satisfied: tensorflow-io-gcs-filesystem>=0.23.1 in /usr/local/lib/python3.7/dist-packages (from tensorflow>=2.5.0->aimodelshare) (0.24.0)\n",
            "Requirement already satisfied: keras-preprocessing>=1.1.1 in /usr/local/lib/python3.7/dist-packages (from tensorflow>=2.5.0->aimodelshare) (1.1.2)\n",
            "Requirement already satisfied: cached-property in /usr/local/lib/python3.7/dist-packages (from h5py>=2.9.0->tensorflow>=2.5.0->aimodelshare) (1.5.2)\n",
            "Requirement already satisfied: markdown>=2.6.8 in /usr/local/lib/python3.7/dist-packages (from tensorboard<2.9,>=2.8->tensorflow>=2.5.0->aimodelshare) (3.3.6)\n",
            "Requirement already satisfied: tensorboard-data-server<0.7.0,>=0.6.0 in /usr/local/lib/python3.7/dist-packages (from tensorboard<2.9,>=2.8->tensorflow>=2.5.0->aimodelshare) (0.6.1)\n",
            "Requirement already satisfied: werkzeug>=0.11.15 in /usr/local/lib/python3.7/dist-packages (from tensorboard<2.9,>=2.8->tensorflow>=2.5.0->aimodelshare) (1.0.1)\n",
            "Requirement already satisfied: tensorboard-plugin-wit>=1.6.0 in /usr/local/lib/python3.7/dist-packages (from tensorboard<2.9,>=2.8->tensorflow>=2.5.0->aimodelshare) (1.8.1)\n",
            "Requirement already satisfied: google-auth-oauthlib<0.5,>=0.4.1 in /usr/local/lib/python3.7/dist-packages (from tensorboard<2.9,>=2.8->tensorflow>=2.5.0->aimodelshare) (0.4.6)\n",
            "Requirement already satisfied: google-auth<3,>=1.6.3 in /usr/local/lib/python3.7/dist-packages (from tensorboard<2.9,>=2.8->tensorflow>=2.5.0->aimodelshare) (1.35.0)\n",
            "Requirement already satisfied: cachetools<5.0,>=2.0.0 in /usr/local/lib/python3.7/dist-packages (from google-auth<3,>=1.6.3->tensorboard<2.9,>=2.8->tensorflow>=2.5.0->aimodelshare) (4.2.4)\n",
            "Requirement already satisfied: rsa<5,>=3.1.4 in /usr/local/lib/python3.7/dist-packages (from google-auth<3,>=1.6.3->tensorboard<2.9,>=2.8->tensorflow>=2.5.0->aimodelshare) (4.8)\n",
            "Requirement already satisfied: pyasn1-modules>=0.2.1 in /usr/local/lib/python3.7/dist-packages (from google-auth<3,>=1.6.3->tensorboard<2.9,>=2.8->tensorflow>=2.5.0->aimodelshare) (0.2.8)\n",
            "Requirement already satisfied: requests-oauthlib>=0.7.0 in /usr/local/lib/python3.7/dist-packages (from google-auth-oauthlib<0.5,>=0.4.1->tensorboard<2.9,>=2.8->tensorflow>=2.5.0->aimodelshare) (1.3.1)\n",
            "Requirement already satisfied: importlib-metadata>=4.4 in /usr/local/lib/python3.7/dist-packages (from markdown>=2.6.8->tensorboard<2.9,>=2.8->tensorflow>=2.5.0->aimodelshare) (4.11.0)\n",
            "Requirement already satisfied: zipp>=0.5 in /usr/local/lib/python3.7/dist-packages (from importlib-metadata>=4.4->markdown>=2.6.8->tensorboard<2.9,>=2.8->tensorflow>=2.5.0->aimodelshare) (3.7.0)\n",
            "Requirement already satisfied: pyasn1<0.5.0,>=0.4.6 in /usr/local/lib/python3.7/dist-packages (from pyasn1-modules>=0.2.1->google-auth<3,>=1.6.3->tensorboard<2.9,>=2.8->tensorflow>=2.5.0->aimodelshare) (0.4.8)\n",
            "Requirement already satisfied: oauthlib>=3.0.0 in /usr/local/lib/python3.7/dist-packages (from requests-oauthlib>=0.7.0->google-auth-oauthlib<0.5,>=0.4.1->tensorboard<2.9,>=2.8->tensorflow>=2.5.0->aimodelshare) (3.2.0)\n",
            "Collecting flatbuffers\n",
            "  Downloading flatbuffers-1.12-py2.py3-none-any.whl (15 kB)\n",
            "Building wheels for collected packages: Pympler, wget, fire\n",
            "  Building wheel for Pympler (setup.py) ... \u001b[?25l\u001b[?25hdone\n",
            "  Created wheel for Pympler: filename=Pympler-0.9-py3-none-any.whl size=164823 sha256=fe8665ec546722be9b3dc58cfccbcd31f774309fa966fdd921c21856176df373\n",
            "  Stored in directory: /root/.cache/pip/wheels/1a/f3/d8/35d5614ea4ddd295ffb9372a5f2f9570d9593d1ea4be33ec6d\n",
            "  Building wheel for wget (setup.py) ... \u001b[?25l\u001b[?25hdone\n",
            "  Created wheel for wget: filename=wget-3.2-py3-none-any.whl size=9675 sha256=7c245ef5ebd873152ddddf386378ecae4c9dee14bbc02fefb80812685ae95651\n",
            "  Stored in directory: /root/.cache/pip/wheels/a1/b6/7c/0e63e34eb06634181c63adacca38b79ff8f35c37e3c13e3c02\n",
            "  Building wheel for fire (setup.py) ... \u001b[?25l\u001b[?25hdone\n",
            "  Created wheel for fire: filename=fire-0.4.0-py2.py3-none-any.whl size=115942 sha256=88785b1593d323cd670bd6f0d0c3f27ea777b50a439f8a8b599886e4a0420d67\n",
            "  Stored in directory: /root/.cache/pip/wheels/8a/67/fb/2e8a12fa16661b9d5af1f654bd199366799740a85c64981226\n",
            "Successfully built Pympler wget fire\n",
            "Installing collected packages: urllib3, onnx, jmespath, scikit-learn, onnxconverter-common, botocore, websocket-client, tf-estimator-nightly, skl2onnx, s3transfer, flatbuffers, fire, wget, tf2onnx, shortuuid, Pympler, PyJWT, onnxruntime, onnxmltools, keras2onnx, docker, boto3, aimodelshare\n",
            "  Attempting uninstall: urllib3\n",
            "    Found existing installation: urllib3 1.24.3\n",
            "    Uninstalling urllib3-1.24.3:\n",
            "      Successfully uninstalled urllib3-1.24.3\n",
            "  Attempting uninstall: scikit-learn\n",
            "    Found existing installation: scikit-learn 1.0.2\n",
            "    Uninstalling scikit-learn-1.0.2:\n",
            "      Successfully uninstalled scikit-learn-1.0.2\n",
            "  Attempting uninstall: flatbuffers\n",
            "    Found existing installation: flatbuffers 2.0\n",
            "    Uninstalling flatbuffers-2.0:\n",
            "      Successfully uninstalled flatbuffers-2.0\n",
            "\u001b[31mERROR: pip's dependency resolver does not currently take into account all the packages that are installed. This behaviour is the source of the following dependency conflicts.\n",
            "datascience 0.10.6 requires folium==0.2.1, but you have folium 0.8.3 which is incompatible.\u001b[0m\n",
            "Successfully installed PyJWT-2.2.0 Pympler-0.9 aimodelshare-0.0.95 boto3-1.18.2 botocore-1.21.2 docker-5.0.0 fire-0.4.0 flatbuffers-1.12 jmespath-0.10.0 keras2onnx-1.7.0 onnx-1.11.0 onnxconverter-common-1.9.0 onnxmltools-1.10.0 onnxruntime-1.10.0 s3transfer-0.5.1 scikit-learn-0.24.2 shortuuid-1.0.8 skl2onnx-1.10.4 tf-estimator-nightly-2.8.0.dev2021122109 tf2onnx-1.9.3 urllib3-1.25.11 websocket-client-1.2.3 wget-3.2\n"
          ]
        },
        {
          "output_type": "display_data",
          "data": {
            "application/vnd.colab-display-data+json": {
              "pip_warning": {
                "packages": [
                  "sklearn"
                ]
              }
            }
          },
          "metadata": {}
        }
      ]
    },
    {
      "cell_type": "code",
      "metadata": {
        "colab": {
          "base_uri": "https://localhost:8080/"
        },
        "id": "d3PiJXBhC5y-",
        "outputId": "7923e1ad-292a-493b-8808-ce20346d1b40"
      },
      "source": [
        "# Get competition data\n",
        "from aimodelshare import download_data\n",
        "download_data('public.ecr.aws/y2e2a1d6/world_happiness_competition_data-repository:latest') "
      ],
      "execution_count": 3,
      "outputs": [
        {
          "output_type": "stream",
          "name": "stdout",
          "text": [
            "Downloading [>                                                ]\n",
            "\n",
            "Data downloaded successfully.\n"
          ]
        }
      ]
    },
    {
      "cell_type": "code",
      "metadata": {
        "colab": {
          "base_uri": "https://localhost:8080/"
        },
        "id": "jT0qFCZFNzHq",
        "outputId": "af9e9140-5b32-4942-8a96-e2942faa9791"
      },
      "source": [
        "# Load data\n",
        "import pandas as pd\n",
        "X_train = pd.read_csv('world_happiness_competition_data/X_train.csv')\n",
        "X_test = pd.read_csv('world_happiness_competition_data/X_test.csv')\n",
        "y_train = pd.read_csv('world_happiness_competition_data/y_train.csv')\n",
        "y_train_labels = y_train.idxmax(axis=1)\n",
        "\n",
        "X_train.head()\n",
        "y_train_labels"
      ],
      "execution_count": 4,
      "outputs": [
        {
          "output_type": "execute_result",
          "data": {
            "text/plain": [
              "0      Very High\n",
              "1            Low\n",
              "2            Low\n",
              "3           High\n",
              "4      Very High\n",
              "         ...    \n",
              "99       Average\n",
              "100          Low\n",
              "101    Very High\n",
              "102      Average\n",
              "103          Low\n",
              "Length: 104, dtype: object"
            ]
          },
          "metadata": {},
          "execution_count": 4
        }
      ]
    },
    {
      "cell_type": "markdown",
      "metadata": {
        "id": "gEzPoXPj3V7u"
      },
      "source": [
        "Preprocess data using Sklearn Column Transformer/ Write and Save Preprocessor function\n"
      ]
    },
    {
      "cell_type": "code",
      "metadata": {
        "id": "16QV9Y9TC3B3"
      },
      "source": [
        "from sklearn.preprocessing import StandardScaler, OneHotEncoder\n",
        "from sklearn.compose import ColumnTransformer, make_column_transformer\n",
        "from sklearn.pipeline import Pipeline\n",
        "from sklearn.impute import SimpleImputer\n",
        "from sklearn.preprocessing import StandardScaler, OneHotEncoder\n",
        "\n",
        "# We create the preprocessing pipelines for both numeric and categorical data.\n",
        "\n",
        "numeric_features = X_train.drop(['Country or region', 'name', 'region', 'sub-region'], axis=1)\n",
        "numeric_features=numeric_features.columns.tolist()\n",
        "\n",
        "numeric_transformer = Pipeline(steps=[\n",
        "    ('imputer', SimpleImputer(strategy='median')),\n",
        "    ('scaler', StandardScaler())])\n",
        "\n",
        "categorical_features = ['region', 'sub-region']\n",
        "\n",
        "#Replacing missing values with Modal value and then one hot encoding.\n",
        "categorical_transformer = Pipeline(steps=[\n",
        "    ('imputer', SimpleImputer(strategy='most_frequent')),\n",
        "    ('onehot', OneHotEncoder(handle_unknown='ignore'))])\n",
        "\n",
        "# final preprocessor object set up with ColumnTransformer\n",
        "preprocessor = ColumnTransformer(\n",
        "    transformers=[\n",
        "        ('num', numeric_transformer, numeric_features),\n",
        "        ('cat', categorical_transformer, categorical_features)])\n",
        "\n",
        "#Fit your preprocessor object\n",
        "preprocess=preprocessor.fit(X_train) "
      ],
      "execution_count": 5,
      "outputs": []
    },
    {
      "cell_type": "code",
      "source": [
        "# Write function to transform data with preprocessor\n",
        "\n",
        "def preprocessor(data):\n",
        "    data.drop(['Country or region', 'name'], axis=1)\n",
        "    preprocessed_data=preprocess.transform(data)\n",
        "    return preprocessed_data"
      ],
      "metadata": {
        "id": "S_PaNOG0SUIk"
      },
      "execution_count": 6,
      "outputs": []
    },
    {
      "cell_type": "code",
      "source": [
        "# check shape of X data after preprocessing it using our new function\n",
        "preprocessor(X_train).shape"
      ],
      "metadata": {
        "colab": {
          "base_uri": "https://localhost:8080/"
        },
        "id": "a1IPy9xvSWBp",
        "outputId": "061324c8-6841-4480-fed0-e30b5ce85f5c"
      },
      "execution_count": 7,
      "outputs": [
        {
          "output_type": "execute_result",
          "data": {
            "text/plain": [
              "(104, 26)"
            ]
          },
          "metadata": {},
          "execution_count": 7
        }
      ]
    },
    {
      "cell_type": "markdown",
      "source": [
        "## Homework 1 "
      ],
      "metadata": {
        "id": "j0K_FC06EVvR"
      }
    },
    {
      "cell_type": "markdown",
      "source": [
        "## 1. Explore bivariate results (Use visualizations!) -- Describe any relationships you see between particular features and the target variable"
      ],
      "metadata": {
        "id": "AFZAwQxS9nNC"
      }
    },
    {
      "cell_type": "code",
      "source": [
        "df = X_train.join(y_train) \n",
        "df.head()\n",
        "#Un-dummify the y dataset and add a Happiness column  \n",
        "df_col = y_train.eq(1).idxmax (axis=1) \n",
        "df_col = df_col.to_frame() \n",
        "df_col.columns= ['Happiness'] \n",
        "df_col.head()\n",
        "df = df.join(df_col)\n",
        "df"
      ],
      "metadata": {
        "colab": {
          "base_uri": "https://localhost:8080/",
          "height": 748
        },
        "id": "Gc5rdkPb9d3v",
        "outputId": "dbc01e1a-5fbf-4169-ee4c-a9bf2a75c7bc"
      },
      "execution_count": 8,
      "outputs": [
        {
          "output_type": "execute_result",
          "data": {
            "text/html": [
              "\n",
              "  <div id=\"df-bf0f8c7a-5349-447d-ae75-3e74d352843a\">\n",
              "    <div class=\"colab-df-container\">\n",
              "      <div>\n",
              "<style scoped>\n",
              "    .dataframe tbody tr th:only-of-type {\n",
              "        vertical-align: middle;\n",
              "    }\n",
              "\n",
              "    .dataframe tbody tr th {\n",
              "        vertical-align: top;\n",
              "    }\n",
              "\n",
              "    .dataframe thead th {\n",
              "        text-align: right;\n",
              "    }\n",
              "</style>\n",
              "<table border=\"1\" class=\"dataframe\">\n",
              "  <thead>\n",
              "    <tr style=\"text-align: right;\">\n",
              "      <th></th>\n",
              "      <th>Country or region</th>\n",
              "      <th>GDP per capita</th>\n",
              "      <th>Social support</th>\n",
              "      <th>Healthy life expectancy</th>\n",
              "      <th>Freedom to make life choices</th>\n",
              "      <th>Generosity</th>\n",
              "      <th>Perceptions of corruption</th>\n",
              "      <th>name</th>\n",
              "      <th>region</th>\n",
              "      <th>sub-region</th>\n",
              "      <th>Terrorist_attacks</th>\n",
              "      <th>Average</th>\n",
              "      <th>High</th>\n",
              "      <th>Low</th>\n",
              "      <th>Very High</th>\n",
              "      <th>Very Low</th>\n",
              "      <th>Happiness</th>\n",
              "    </tr>\n",
              "  </thead>\n",
              "  <tbody>\n",
              "    <tr>\n",
              "      <th>0</th>\n",
              "      <td>Saudi Arabia</td>\n",
              "      <td>1.403</td>\n",
              "      <td>1.357</td>\n",
              "      <td>0.795</td>\n",
              "      <td>0.439</td>\n",
              "      <td>0.080</td>\n",
              "      <td>0.132</td>\n",
              "      <td>Saudi Arabia</td>\n",
              "      <td>Asia</td>\n",
              "      <td>Western Asia</td>\n",
              "      <td>173.000000</td>\n",
              "      <td>0</td>\n",
              "      <td>0</td>\n",
              "      <td>0</td>\n",
              "      <td>1</td>\n",
              "      <td>0</td>\n",
              "      <td>Very High</td>\n",
              "    </tr>\n",
              "    <tr>\n",
              "      <th>1</th>\n",
              "      <td>Georgia</td>\n",
              "      <td>0.886</td>\n",
              "      <td>0.666</td>\n",
              "      <td>0.752</td>\n",
              "      <td>0.346</td>\n",
              "      <td>0.043</td>\n",
              "      <td>0.164</td>\n",
              "      <td>Georgia</td>\n",
              "      <td>Asia</td>\n",
              "      <td>Western Asia</td>\n",
              "      <td>18.000000</td>\n",
              "      <td>0</td>\n",
              "      <td>0</td>\n",
              "      <td>1</td>\n",
              "      <td>0</td>\n",
              "      <td>0</td>\n",
              "      <td>Low</td>\n",
              "    </tr>\n",
              "    <tr>\n",
              "      <th>2</th>\n",
              "      <td>Guinea</td>\n",
              "      <td>0.380</td>\n",
              "      <td>0.829</td>\n",
              "      <td>0.375</td>\n",
              "      <td>0.332</td>\n",
              "      <td>0.207</td>\n",
              "      <td>0.086</td>\n",
              "      <td>Guinea</td>\n",
              "      <td>Africa</td>\n",
              "      <td>Sub-Saharan Africa</td>\n",
              "      <td>3.000000</td>\n",
              "      <td>0</td>\n",
              "      <td>0</td>\n",
              "      <td>1</td>\n",
              "      <td>0</td>\n",
              "      <td>0</td>\n",
              "      <td>Low</td>\n",
              "    </tr>\n",
              "    <tr>\n",
              "      <th>3</th>\n",
              "      <td>Lithuania</td>\n",
              "      <td>1.238</td>\n",
              "      <td>1.515</td>\n",
              "      <td>0.818</td>\n",
              "      <td>0.291</td>\n",
              "      <td>0.043</td>\n",
              "      <td>0.042</td>\n",
              "      <td>Lithuania</td>\n",
              "      <td>Europe</td>\n",
              "      <td>Northern Europe</td>\n",
              "      <td>125.611111</td>\n",
              "      <td>0</td>\n",
              "      <td>1</td>\n",
              "      <td>0</td>\n",
              "      <td>0</td>\n",
              "      <td>0</td>\n",
              "      <td>High</td>\n",
              "    </tr>\n",
              "    <tr>\n",
              "      <th>4</th>\n",
              "      <td>Netherlands</td>\n",
              "      <td>1.396</td>\n",
              "      <td>1.522</td>\n",
              "      <td>0.999</td>\n",
              "      <td>0.557</td>\n",
              "      <td>0.322</td>\n",
              "      <td>0.298</td>\n",
              "      <td>Netherlands</td>\n",
              "      <td>Europe</td>\n",
              "      <td>Western Europe</td>\n",
              "      <td>1.000000</td>\n",
              "      <td>0</td>\n",
              "      <td>0</td>\n",
              "      <td>0</td>\n",
              "      <td>1</td>\n",
              "      <td>0</td>\n",
              "      <td>Very High</td>\n",
              "    </tr>\n",
              "    <tr>\n",
              "      <th>...</th>\n",
              "      <td>...</td>\n",
              "      <td>...</td>\n",
              "      <td>...</td>\n",
              "      <td>...</td>\n",
              "      <td>...</td>\n",
              "      <td>...</td>\n",
              "      <td>...</td>\n",
              "      <td>...</td>\n",
              "      <td>...</td>\n",
              "      <td>...</td>\n",
              "      <td>...</td>\n",
              "      <td>...</td>\n",
              "      <td>...</td>\n",
              "      <td>...</td>\n",
              "      <td>...</td>\n",
              "      <td>...</td>\n",
              "      <td>...</td>\n",
              "    </tr>\n",
              "    <tr>\n",
              "      <th>99</th>\n",
              "      <td>Libya</td>\n",
              "      <td>1.044</td>\n",
              "      <td>1.303</td>\n",
              "      <td>0.673</td>\n",
              "      <td>0.416</td>\n",
              "      <td>0.133</td>\n",
              "      <td>0.152</td>\n",
              "      <td>Libya</td>\n",
              "      <td>Africa</td>\n",
              "      <td>Northern Africa</td>\n",
              "      <td>1448.000000</td>\n",
              "      <td>1</td>\n",
              "      <td>0</td>\n",
              "      <td>0</td>\n",
              "      <td>0</td>\n",
              "      <td>0</td>\n",
              "      <td>Average</td>\n",
              "    </tr>\n",
              "    <tr>\n",
              "      <th>100</th>\n",
              "      <td>Albania</td>\n",
              "      <td>0.947</td>\n",
              "      <td>0.848</td>\n",
              "      <td>0.874</td>\n",
              "      <td>0.383</td>\n",
              "      <td>0.178</td>\n",
              "      <td>0.027</td>\n",
              "      <td>Albania</td>\n",
              "      <td>Europe</td>\n",
              "      <td>Southern Europe</td>\n",
              "      <td>9.000000</td>\n",
              "      <td>0</td>\n",
              "      <td>0</td>\n",
              "      <td>1</td>\n",
              "      <td>0</td>\n",
              "      <td>0</td>\n",
              "      <td>Low</td>\n",
              "    </tr>\n",
              "    <tr>\n",
              "      <th>101</th>\n",
              "      <td>United Kingdom</td>\n",
              "      <td>1.333</td>\n",
              "      <td>1.538</td>\n",
              "      <td>0.996</td>\n",
              "      <td>0.450</td>\n",
              "      <td>0.348</td>\n",
              "      <td>0.278</td>\n",
              "      <td>United Kingdom</td>\n",
              "      <td>Europe</td>\n",
              "      <td>Northern Europe</td>\n",
              "      <td>339.000000</td>\n",
              "      <td>0</td>\n",
              "      <td>0</td>\n",
              "      <td>0</td>\n",
              "      <td>1</td>\n",
              "      <td>0</td>\n",
              "      <td>Very High</td>\n",
              "    </tr>\n",
              "    <tr>\n",
              "      <th>102</th>\n",
              "      <td>China</td>\n",
              "      <td>1.029</td>\n",
              "      <td>1.125</td>\n",
              "      <td>0.893</td>\n",
              "      <td>0.521</td>\n",
              "      <td>0.058</td>\n",
              "      <td>0.100</td>\n",
              "      <td>China</td>\n",
              "      <td>Asia</td>\n",
              "      <td>Eastern Asia</td>\n",
              "      <td>37.000000</td>\n",
              "      <td>1</td>\n",
              "      <td>0</td>\n",
              "      <td>0</td>\n",
              "      <td>0</td>\n",
              "      <td>0</td>\n",
              "      <td>Average</td>\n",
              "    </tr>\n",
              "    <tr>\n",
              "      <th>103</th>\n",
              "      <td>Congo (Brazzaville)</td>\n",
              "      <td>0.673</td>\n",
              "      <td>0.799</td>\n",
              "      <td>0.508</td>\n",
              "      <td>0.372</td>\n",
              "      <td>0.105</td>\n",
              "      <td>0.093</td>\n",
              "      <td>Congo (Brazzaville)</td>\n",
              "      <td>Africa</td>\n",
              "      <td>Sub-Saharan Africa</td>\n",
              "      <td>122.000000</td>\n",
              "      <td>0</td>\n",
              "      <td>0</td>\n",
              "      <td>1</td>\n",
              "      <td>0</td>\n",
              "      <td>0</td>\n",
              "      <td>Low</td>\n",
              "    </tr>\n",
              "  </tbody>\n",
              "</table>\n",
              "<p>104 rows × 17 columns</p>\n",
              "</div>\n",
              "      <button class=\"colab-df-convert\" onclick=\"convertToInteractive('df-bf0f8c7a-5349-447d-ae75-3e74d352843a')\"\n",
              "              title=\"Convert this dataframe to an interactive table.\"\n",
              "              style=\"display:none;\">\n",
              "        \n",
              "  <svg xmlns=\"http://www.w3.org/2000/svg\" height=\"24px\"viewBox=\"0 0 24 24\"\n",
              "       width=\"24px\">\n",
              "    <path d=\"M0 0h24v24H0V0z\" fill=\"none\"/>\n",
              "    <path d=\"M18.56 5.44l.94 2.06.94-2.06 2.06-.94-2.06-.94-.94-2.06-.94 2.06-2.06.94zm-11 1L8.5 8.5l.94-2.06 2.06-.94-2.06-.94L8.5 2.5l-.94 2.06-2.06.94zm10 10l.94 2.06.94-2.06 2.06-.94-2.06-.94-.94-2.06-.94 2.06-2.06.94z\"/><path d=\"M17.41 7.96l-1.37-1.37c-.4-.4-.92-.59-1.43-.59-.52 0-1.04.2-1.43.59L10.3 9.45l-7.72 7.72c-.78.78-.78 2.05 0 2.83L4 21.41c.39.39.9.59 1.41.59.51 0 1.02-.2 1.41-.59l7.78-7.78 2.81-2.81c.8-.78.8-2.07 0-2.86zM5.41 20L4 18.59l7.72-7.72 1.47 1.35L5.41 20z\"/>\n",
              "  </svg>\n",
              "      </button>\n",
              "      \n",
              "  <style>\n",
              "    .colab-df-container {\n",
              "      display:flex;\n",
              "      flex-wrap:wrap;\n",
              "      gap: 12px;\n",
              "    }\n",
              "\n",
              "    .colab-df-convert {\n",
              "      background-color: #E8F0FE;\n",
              "      border: none;\n",
              "      border-radius: 50%;\n",
              "      cursor: pointer;\n",
              "      display: none;\n",
              "      fill: #1967D2;\n",
              "      height: 32px;\n",
              "      padding: 0 0 0 0;\n",
              "      width: 32px;\n",
              "    }\n",
              "\n",
              "    .colab-df-convert:hover {\n",
              "      background-color: #E2EBFA;\n",
              "      box-shadow: 0px 1px 2px rgba(60, 64, 67, 0.3), 0px 1px 3px 1px rgba(60, 64, 67, 0.15);\n",
              "      fill: #174EA6;\n",
              "    }\n",
              "\n",
              "    [theme=dark] .colab-df-convert {\n",
              "      background-color: #3B4455;\n",
              "      fill: #D2E3FC;\n",
              "    }\n",
              "\n",
              "    [theme=dark] .colab-df-convert:hover {\n",
              "      background-color: #434B5C;\n",
              "      box-shadow: 0px 1px 3px 1px rgba(0, 0, 0, 0.15);\n",
              "      filter: drop-shadow(0px 1px 2px rgba(0, 0, 0, 0.3));\n",
              "      fill: #FFFFFF;\n",
              "    }\n",
              "  </style>\n",
              "\n",
              "      <script>\n",
              "        const buttonEl =\n",
              "          document.querySelector('#df-bf0f8c7a-5349-447d-ae75-3e74d352843a button.colab-df-convert');\n",
              "        buttonEl.style.display =\n",
              "          google.colab.kernel.accessAllowed ? 'block' : 'none';\n",
              "\n",
              "        async function convertToInteractive(key) {\n",
              "          const element = document.querySelector('#df-bf0f8c7a-5349-447d-ae75-3e74d352843a');\n",
              "          const dataTable =\n",
              "            await google.colab.kernel.invokeFunction('convertToInteractive',\n",
              "                                                     [key], {});\n",
              "          if (!dataTable) return;\n",
              "\n",
              "          const docLinkHtml = 'Like what you see? Visit the ' +\n",
              "            '<a target=\"_blank\" href=https://colab.research.google.com/notebooks/data_table.ipynb>data table notebook</a>'\n",
              "            + ' to learn more about interactive tables.';\n",
              "          element.innerHTML = '';\n",
              "          dataTable['output_type'] = 'display_data';\n",
              "          await google.colab.output.renderOutput(dataTable, element);\n",
              "          const docLink = document.createElement('div');\n",
              "          docLink.innerHTML = docLinkHtml;\n",
              "          element.appendChild(docLink);\n",
              "        }\n",
              "      </script>\n",
              "    </div>\n",
              "  </div>\n",
              "  "
            ],
            "text/plain": [
              "       Country or region  GDP per capita  ...  Very Low  Happiness\n",
              "0           Saudi Arabia           1.403  ...         0  Very High\n",
              "1                Georgia           0.886  ...         0        Low\n",
              "2                 Guinea           0.380  ...         0        Low\n",
              "3              Lithuania           1.238  ...         0       High\n",
              "4            Netherlands           1.396  ...         0  Very High\n",
              "..                   ...             ...  ...       ...        ...\n",
              "99                 Libya           1.044  ...         0    Average\n",
              "100              Albania           0.947  ...         0        Low\n",
              "101       United Kingdom           1.333  ...         0  Very High\n",
              "102                China           1.029  ...         0    Average\n",
              "103  Congo (Brazzaville)           0.673  ...         0        Low\n",
              "\n",
              "[104 rows x 17 columns]"
            ]
          },
          "metadata": {},
          "execution_count": 8
        }
      ]
    },
    {
      "cell_type": "code",
      "source": [
        "# To see the relationship between Happiness and GDP per capita \n",
        "\n",
        "df['GDP per capita']\n",
        "sns.boxplot(x= \"GDP per capita\", y=\"Happiness\",\n",
        "              order = ['Very High', 'High', 'Average', 'Low', 'Very Low'],\n",
        "                        data=df)"
      ],
      "metadata": {
        "colab": {
          "base_uri": "https://localhost:8080/",
          "height": 297
        },
        "id": "hJvI8Sv8_dr7",
        "outputId": "3021f1fb-ec7b-4ed9-ef79-29dd715884b2"
      },
      "execution_count": 9,
      "outputs": [
        {
          "output_type": "execute_result",
          "data": {
            "text/plain": [
              "<matplotlib.axes._subplots.AxesSubplot at 0x7f35ce55a750>"
            ]
          },
          "metadata": {},
          "execution_count": 9
        },
        {
          "output_type": "display_data",
          "data": {
            "image/png": "[encoded data removed]",
            "text/plain": [
              "<Figure size 432x288 with 1 Axes>"
            ]
          },
          "metadata": {
            "needs_background": "light"
          }
        }
      ]
    },
    {
      "cell_type": "code",
      "source": [
        "# To see the relationship between Happiness and Freedom to make life choices \n",
        "\n",
        "df['Freedom to make life choices']\n",
        "sns.boxplot(x= \"Freedom to make life choices\", y=\"Happiness\",\n",
        "              order = ['Very High', 'High', 'Average', 'Low', 'Very Low'],\n",
        "                        data=df)\n"
      ],
      "metadata": {
        "colab": {
          "base_uri": "https://localhost:8080/",
          "height": 297
        },
        "id": "TzVo0zL5BFbu",
        "outputId": "3f178759-00fa-4498-aabe-f960f883775d"
      },
      "execution_count": 10,
      "outputs": [
        {
          "output_type": "execute_result",
          "data": {
            "text/plain": [
              "<matplotlib.axes._subplots.AxesSubplot at 0x7f35cdf0aa10>"
            ]
          },
          "metadata": {},
          "execution_count": 10
        },
        {
          "output_type": "display_data",
          "data": {
            "image/png": "[encoded data removed]",
            "text/plain": [
              "<Figure size 432x288 with 1 Axes>"
            ]
          },
          "metadata": {
            "needs_background": "light"
          }
        }
      ]
    },
    {
      "cell_type": "code",
      "source": [
        "# To see the relationship between Happiness and Healthy life expectancy \n",
        "\n",
        "df['Healthy life expectancy']\n",
        "sns.boxplot(x= \"Healthy life expectancy\", y=\"Happiness\",\n",
        "              order = ['Very High', 'High', 'Average', 'Low', 'Very Low'],\n",
        "                        data=df)"
      ],
      "metadata": {
        "colab": {
          "base_uri": "https://localhost:8080/",
          "height": 297
        },
        "id": "bJ3CXMN-2B6h",
        "outputId": "908d50ea-539d-44e4-92b1-7dbd087fc665"
      },
      "execution_count": 11,
      "outputs": [
        {
          "output_type": "execute_result",
          "data": {
            "text/plain": [
              "<matplotlib.axes._subplots.AxesSubplot at 0x7f35cd9b13d0>"
            ]
          },
          "metadata": {},
          "execution_count": 11
        },
        {
          "output_type": "display_data",
          "data": {
            "image/png": "[encoded data removed]",
            "text/plain": [
              "<Figure size 432x288 with 1 Axes>"
            ]
          },
          "metadata": {
            "needs_background": "light"
          }
        }
      ]
    },
    {
      "cell_type": "code",
      "source": [
        "# To see the relationship between Happiness and Perceptions of Corruption\n",
        "\n",
        "df['Perceptions of corruption']\n",
        "sns.boxplot(x= \"Perceptions of corruption\", y=\"Happiness\",\n",
        "              order = ['Very High', 'High', 'Average', 'Low', 'Very Low'],\n",
        "                        data=df)"
      ],
      "metadata": {
        "colab": {
          "base_uri": "https://localhost:8080/",
          "height": 297
        },
        "id": "nA83qx57Bgmd",
        "outputId": "ac44e9a9-8b6f-40d7-f8f1-3347c7345f39"
      },
      "execution_count": 12,
      "outputs": [
        {
          "output_type": "execute_result",
          "data": {
            "text/plain": [
              "<matplotlib.axes._subplots.AxesSubplot at 0x7f35cd8fa590>"
            ]
          },
          "metadata": {},
          "execution_count": 12
        },
        {
          "output_type": "display_data",
          "data": {
            "image/png": "[encoded data removed]",
            "text/plain": [
              "<Figure size 432x288 with 1 Axes>"
            ]
          },
          "metadata": {
            "needs_background": "light"
          }
        }
      ]
    },
    {
      "cell_type": "code",
      "source": [
        "# To see the relationship between Happiness and Social Support\n",
        "\n",
        "df['Social support']\n",
        "sns.boxplot(x= \"Social support\", y=\"Happiness\",\n",
        "           order = ['Very High', 'High', 'Average', 'Low', 'Very Low'],\n",
        "                        data=df)"
      ],
      "metadata": {
        "colab": {
          "base_uri": "https://localhost:8080/",
          "height": 297
        },
        "id": "13_NdM8fRa4P",
        "outputId": "649bf193-ebac-4d8f-e175-b190fe00cced"
      },
      "execution_count": 13,
      "outputs": [
        {
          "output_type": "execute_result",
          "data": {
            "text/plain": [
              "<matplotlib.axes._subplots.AxesSubplot at 0x7f35cd7c2c90>"
            ]
          },
          "metadata": {},
          "execution_count": 13
        },
        {
          "output_type": "display_data",
          "data": {
            "image/png": "[encoded data removed]",
            "text/plain": [
              "<Figure size 432x288 with 1 Axes>"
            ]
          },
          "metadata": {
            "needs_background": "light"
          }
        }
      ]
    },
    {
      "cell_type": "code",
      "source": [
        "# To see the relationship between Happiness and Generosity \n",
        "\n",
        "df['Generosity']\n",
        "sns.boxplot(x= \"Generosity\", y=\"Happiness\",\n",
        "              order = ['Very High', 'High', 'Average', 'Low', 'Very Low'],\n",
        "                        data=df)"
      ],
      "metadata": {
        "colab": {
          "base_uri": "https://localhost:8080/",
          "height": 297
        },
        "id": "2KkF4OaK3KXb",
        "outputId": "4d8991de-82fa-4dd9-af44-bc8dd3142d63"
      },
      "execution_count": 14,
      "outputs": [
        {
          "output_type": "execute_result",
          "data": {
            "text/plain": [
              "<matplotlib.axes._subplots.AxesSubplot at 0x7f35cd725890>"
            ]
          },
          "metadata": {},
          "execution_count": 14
        },
        {
          "output_type": "display_data",
          "data": {
            "image/png": "[encoded data removed]",
            "text/plain": [
              "<Figure size 432x288 with 1 Axes>"
            ]
          },
          "metadata": {
            "needs_background": "light"
          }
        }
      ]
    },
    {
      "cell_type": "code",
      "source": [
        "# To see the relationship between Happiness and Terrorist attacks \n",
        "\n",
        "df['Terrorist_attacks']\n",
        "sns.boxplot(x= \"Terrorist_attacks\", y=\"Happiness\",\n",
        "              order = ['Very High', 'High', 'Average', 'Low', 'Very Low'],\n",
        "                        data=df)\n",
        "\n"
      ],
      "metadata": {
        "colab": {
          "base_uri": "https://localhost:8080/",
          "height": 298
        },
        "id": "E81etzjd39uw",
        "outputId": "8b538ccf-0969-481e-94ef-5562c1134945"
      },
      "execution_count": 15,
      "outputs": [
        {
          "output_type": "execute_result",
          "data": {
            "text/plain": [
              "<matplotlib.axes._subplots.AxesSubplot at 0x7f35cd675b50>"
            ]
          },
          "metadata": {},
          "execution_count": 15
        },
        {
          "output_type": "display_data",
          "data": {
            "image/png": "[encoded data removed]",
            "text/plain": [
              "<Figure size 432x288 with 1 Axes>"
            ]
          },
          "metadata": {
            "needs_background": "light"
          }
        }
      ]
    },
    {
      "cell_type": "markdown",
      "source": [
        "Given the plots above the variables social support, freedom to make own choices, healthy life expectancy and gdp per capita have a positive relationship with happiness. These relationships make sense as such variables play a pivotal role in improving an individuals well being, which is vital in determining ones happiness. The box plots show that for social support, healthy life expectancy and gdp per capita the variance is quite small. It is interestign to see that for perceptions of corruption, and generosity, when happiness is very high the variance is also large. Moreover, with social support and freedom to make life choises, when happiness is very low the variance is large. Additionally,  terrorist attacks have the largest variance when happiness is very low. \n",
        "\n",
        "To conclude  the variables; social support, freedom to make own choices, healthy life expectancy and gdp per capita have a meaningful relationship with happiness. Happiness increases as the amount of these variables increase. "
      ],
      "metadata": {
        "id": "ifLa3A-F1uJ_"
      }
    },
    {
      "cell_type": "markdown",
      "source": [
        "## 2. Examine features that predict happiness categories using one or more models that allow for automatic feature selection. -- Explain any meaningful findings"
      ],
      "metadata": {
        "id": "aYy4e_DuE63p"
      }
    },
    {
      "cell_type": "markdown",
      "source": [
        "Model 1: Logistic Regression using Cross Validation"
      ],
      "metadata": {
        "id": "I11NQV50H_iF"
      }
    },
    {
      "cell_type": "code",
      "source": [
        "logreg = LogisticRegression( solver='liblinear', penalty = 'l2', \n",
        "                                max_iter=10000)\n",
        "logreg.fit(preprocessor(X_train), y_train_labels)\n",
        "\n",
        "print(\"cross_validation_score = {:.5f}\".format\n",
        "      (np.mean(cross_val_score(logreg, preprocessor(X_train), y_train_labels))))\n",
        "\n",
        "print(\"Training set score: {:.5f}\".format(logreg.score(preprocessor(X_train), y_train_labels)))\n",
        "print(\"Test set score: {:.5f}\".format(logreg.score(preprocessor(X_train), y_train_labels)))\n",
        "print(\"CV score: {:.5f}\".format(np.mean(cross_val_score(logreg, preprocessor(X_train), y_train_labels))))\n"
      ],
      "metadata": {
        "colab": {
          "base_uri": "https://localhost:8080/"
        },
        "id": "msu7B_KNIEjQ",
        "outputId": "37da3e4f-ab01-48da-b22c-61b4651288dd"
      },
      "execution_count": 16,
      "outputs": [
        {
          "output_type": "stream",
          "name": "stdout",
          "text": [
            "cross_validation_score = 0.62476\n",
            "Training set score: 0.79808\n",
            "Test set score: 0.79808\n",
            "CV score: 0.62476\n"
          ]
        }
      ]
    },
    {
      "cell_type": "code",
      "source": [
        "param_grid = { 'penalty': ['l1','l2'], \"C\":[0.001, 0.01, 0.1, 1, 10, 100], 'max_iter':[50, 100, 500, 1000, 5000]}\n",
        "grid = GridSearchCV(LogisticRegression(penalty='l2', solver='liblinear')\n",
        "                     ,param_grid=param_grid, cv=15)\n",
        "grid.fit(preprocessor(X_train), y_train_labels)\n",
        "\n",
        "print(\"best mean cross-validation score: {:.5f}\".format(grid.best_score_))\n",
        "print(\"best parameters: {}\".format(grid.best_params_))\n",
        "print(\"test-set score: {:.5f}\".format(grid.score(preprocessor(X_train), y_train_labels)))"
      ],
      "metadata": {
        "colab": {
          "base_uri": "https://localhost:8080/"
        },
        "id": "v2yEschkWFM5",
        "outputId": "95e1744c-5979-43b7-b62b-20e2bbd4db92"
      },
      "execution_count": 17,
      "outputs": [
        {
          "output_type": "stream",
          "name": "stderr",
          "text": [
            "/usr/local/lib/python3.7/dist-packages/sklearn/svm/_base.py:1208: ConvergenceWarning: Liblinear failed to converge, increase the number of iterations.\n",
            "/usr/local/lib/python3.7/dist-packages/sklearn/svm/_base.py:1208: ConvergenceWarning: Liblinear failed to converge, increase the number of iterations.\n",
            "/usr/local/lib/python3.7/dist-packages/sklearn/svm/_base.py:1208: ConvergenceWarning: Liblinear failed to converge, increase the number of iterations.\n",
            "/usr/local/lib/python3.7/dist-packages/sklearn/svm/_base.py:1208: ConvergenceWarning: Liblinear failed to converge, increase the number of iterations.\n"
          ]
        },
        {
          "output_type": "stream",
          "name": "stdout",
          "text": [
            "best mean cross-validation score: 0.66508\n",
            "best parameters: {'C': 0.1, 'max_iter': 50, 'penalty': 'l2'}\n",
            "test-set score: 0.75000\n"
          ]
        }
      ]
    },
    {
      "cell_type": "code",
      "source": [
        "#The best parameters are penaltly = l2, C = 0.1 and max iter = 50\n",
        "\n",
        "logreg1 = LogisticRegression(penalty = 'l2', \n",
        "                               solver='liblinear', max_iter=50, C = 0.1)\n",
        "logreg1.fit(preprocessor(X_train), y_train_labels)\n",
        "print(\"logreg.coef_: {}\".format(logreg1.coef_))\n",
        "print(X_train.columns)"
      ],
      "metadata": {
        "colab": {
          "base_uri": "https://localhost:8080/"
        },
        "id": "N4N7TsqnWQe1",
        "outputId": "867fe714-6934-4d57-eebd-3ff43b5f7a4f"
      },
      "execution_count": 18,
      "outputs": [
        {
          "output_type": "stream",
          "name": "stdout",
          "text": [
            "logreg.coef_: [[-0.01885065  0.01300432  0.14469501 -0.11031025 -0.13013698 -0.28932917\n",
            "  -0.00230502 -0.23066175 -0.230327   -0.15311243 -0.13969253 -0.03408757\n",
            "  -0.03408757  0.09083126 -0.00547153 -0.02241663 -0.21409331  0.15952221\n",
            "  -0.0162337  -0.18482711  0.0214566  -0.11023348  0.1858321  -0.39018395\n",
            "  -0.14969528 -0.11828089]\n",
            " [ 0.16550905  0.35059602  0.20303762  0.15497557 -0.27248317 -0.34965577\n",
            "  -0.10967621 -0.39288773  0.13949217 -0.13741488 -0.27246417 -0.05767443\n",
            "  -0.05767443  0.06478637  0.05493271  0.11056457  0.17730158 -0.09502928\n",
            "  -0.03780941 -0.02258119  0.01219556 -0.08110517 -0.1774851  -0.29785845\n",
            "  -0.18822434 -0.18296245]\n",
            " [-0.21325672 -0.14510951 -0.29463294  0.03964838 -0.2022978  -0.11684863\n",
            "  -0.37008602 -0.10059833 -0.2032475  -0.07467315 -0.40151692 -0.02535414\n",
            "  -0.02535414 -0.11236396 -0.07489563 -0.13237664 -0.19091066 -0.11647361\n",
            "  -0.01233683 -0.11648012  0.00249537  0.09526072 -0.0839282   0.01587528\n",
            "   0.01483035 -0.06873195]\n",
            " [ 0.44077071  0.20275244  0.2035047   0.22064717  0.29328802  0.51683927\n",
            "  -0.00830234 -0.27346012 -0.13806256 -0.42543322 -0.08900964  0.02848631\n",
            "   0.02848631 -0.10378018 -0.07165379 -0.12021829 -0.15797165 -0.05832105\n",
            "   0.01990908  0.02571817 -0.16942892 -0.06093715 -0.15152458 -0.21513906\n",
            "  -0.01963317  0.15701506]\n",
            " [-0.36423719 -0.3282397  -0.2775514  -0.2919396   0.2413545   0.08720294\n",
            "   0.43464807 -0.13590293 -0.15072704 -0.23352525 -0.33196502 -0.02426871\n",
            "  -0.02426871 -0.08191354 -0.03353581 -0.07433947 -0.1411425  -0.02841678\n",
            "  -0.00958455 -0.07501934 -0.0120698   0.01536104 -0.13678454 -0.10748615\n",
            "  -0.12136714 -0.04582167]]\n",
            "Index(['Country or region', 'GDP per capita', 'Social support',\n",
            "       'Healthy life expectancy', 'Freedom to make life choices', 'Generosity',\n",
            "       'Perceptions of corruption', 'name', 'region', 'sub-region',\n",
            "       'Terrorist_attacks'],\n",
            "      dtype='object')\n"
          ]
        }
      ]
    },
    {
      "cell_type": "markdown",
      "source": [
        "The model that I use is logistic regression. The test score is 0.798. After running cross validation to learn what the best parameters in the model are, the reuslts are the following; penalty = l2, C = 0.1 and max iter = 50. The test set score is 0.75. \n",
        "\n",
        "I use the L2 penalty in logistic regression. In this model, the variables with minor contributions have their coefficients brought down to 0. All the variables are incorporated in the model before the less contributive ones are zeroed down."
      ],
      "metadata": {
        "id": "56sfuh-851hF"
      }
    },
    {
      "cell_type": "markdown",
      "source": [
        "Model 2: PCA"
      ],
      "metadata": {
        "id": "Xxezv7EVl3Ur"
      }
    },
    {
      "cell_type": "code",
      "source": [
        "X_train_ = preprocessor(X_train)\n",
        "pca = PCA(n_components=6)\n",
        "pca.fit(X_train_)\n",
        "components = pca.components_"
      ],
      "metadata": {
        "id": "WMrwC6ciHeGD"
      },
      "execution_count": 19,
      "outputs": []
    },
    {
      "cell_type": "code",
      "source": [
        "df3 = pd.DataFrame(X_train_)"
      ],
      "metadata": {
        "id": "O9GwB8mt-AKQ"
      },
      "execution_count": 20,
      "outputs": []
    },
    {
      "cell_type": "code",
      "source": [
        "pca.explained_variance_"
      ],
      "metadata": {
        "id": "DdyxyMvNH_2G",
        "colab": {
          "base_uri": "https://localhost:8080/"
        },
        "outputId": "15b2e8d9-768d-4a98-86dc-64ceff9fc49c"
      },
      "execution_count": 21,
      "outputs": [
        {
          "output_type": "execute_result",
          "data": {
            "text/plain": [
              "array([3.61970037, 1.50293369, 0.84846365, 0.63068691, 0.51553714,\n",
              "       0.40253738])"
            ]
          },
          "metadata": {},
          "execution_count": 21
        }
      ]
    },
    {
      "cell_type": "code",
      "source": [
        "pca.explained_variance_ratio_"
      ],
      "metadata": {
        "id": "tCKUh8ePIG-q",
        "colab": {
          "base_uri": "https://localhost:8080/"
        },
        "outputId": "c32c10bf-fd56-40d8-a414-8f9e34ef97ab"
      },
      "execution_count": 22,
      "outputs": [
        {
          "output_type": "execute_result",
          "data": {
            "text/plain": [
              "array([0.41600573, 0.1727295 , 0.09751242, 0.07248373, 0.05924977,\n",
              "       0.04626291])"
            ]
          },
          "metadata": {},
          "execution_count": 22
        }
      ]
    },
    {
      "cell_type": "code",
      "source": [
        "df3.pca = pd.DataFrame(components, columns = df3.columns)\n",
        "df3.pca"
      ],
      "metadata": {
        "id": "69a9jCW8IPJ4",
        "colab": {
          "base_uri": "https://localhost:8080/",
          "height": 337
        },
        "outputId": "6382939d-6921-4e47-f389-0b55385f170d"
      },
      "execution_count": 23,
      "outputs": [
        {
          "output_type": "stream",
          "name": "stderr",
          "text": [
            "/usr/local/lib/python3.7/dist-packages/ipykernel_launcher.py:1: UserWarning: Pandas doesn't allow columns to be created via a new attribute name - see https://pandas.pydata.org/pandas-docs/stable/indexing.html#attribute-access\n",
            "  \"\"\"Entry point for launching an IPython kernel.\n"
          ]
        },
        {
          "output_type": "execute_result",
          "data": {
            "text/html": [
              "\n",
              "  <div id=\"df-2d57130c-1788-459e-94b5-6c15e0184864\">\n",
              "    <div class=\"colab-df-container\">\n",
              "      <div>\n",
              "<style scoped>\n",
              "    .dataframe tbody tr th:only-of-type {\n",
              "        vertical-align: middle;\n",
              "    }\n",
              "\n",
              "    .dataframe tbody tr th {\n",
              "        vertical-align: top;\n",
              "    }\n",
              "\n",
              "    .dataframe thead th {\n",
              "        text-align: right;\n",
              "    }\n",
              "</style>\n",
              "<table border=\"1\" class=\"dataframe\">\n",
              "  <thead>\n",
              "    <tr style=\"text-align: right;\">\n",
              "      <th></th>\n",
              "      <th>0</th>\n",
              "      <th>1</th>\n",
              "      <th>2</th>\n",
              "      <th>3</th>\n",
              "      <th>4</th>\n",
              "      <th>5</th>\n",
              "      <th>6</th>\n",
              "      <th>7</th>\n",
              "      <th>8</th>\n",
              "      <th>9</th>\n",
              "      <th>10</th>\n",
              "      <th>11</th>\n",
              "      <th>12</th>\n",
              "      <th>13</th>\n",
              "      <th>14</th>\n",
              "      <th>15</th>\n",
              "      <th>16</th>\n",
              "      <th>17</th>\n",
              "      <th>18</th>\n",
              "      <th>19</th>\n",
              "      <th>20</th>\n",
              "      <th>21</th>\n",
              "      <th>22</th>\n",
              "      <th>23</th>\n",
              "      <th>24</th>\n",
              "      <th>25</th>\n",
              "    </tr>\n",
              "  </thead>\n",
              "  <tbody>\n",
              "    <tr>\n",
              "      <th>0</th>\n",
              "      <td>-0.469820</td>\n",
              "      <td>-0.450864</td>\n",
              "      <td>-0.477283</td>\n",
              "      <td>-0.349056</td>\n",
              "      <td>-0.037379</td>\n",
              "      <td>-0.270050</td>\n",
              "      <td>0.287854</td>\n",
              "      <td>0.159687</td>\n",
              "      <td>-0.016023</td>\n",
              "      <td>-0.008481</td>\n",
              "      <td>-0.120490</td>\n",
              "      <td>-0.014692</td>\n",
              "      <td>-0.014692</td>\n",
              "      <td>-0.005011</td>\n",
              "      <td>-0.007914</td>\n",
              "      <td>-0.008542</td>\n",
              "      <td>-0.008885</td>\n",
              "      <td>0.008502</td>\n",
              "      <td>-0.007138</td>\n",
              "      <td>-0.053801</td>\n",
              "      <td>-0.008813</td>\n",
              "      <td>0.016056</td>\n",
              "      <td>-0.018089</td>\n",
              "      <td>0.151184</td>\n",
              "      <td>-0.002798</td>\n",
              "      <td>-0.040058</td>\n",
              "    </tr>\n",
              "    <tr>\n",
              "      <th>1</th>\n",
              "      <td>-0.189690</td>\n",
              "      <td>-0.143455</td>\n",
              "      <td>-0.167612</td>\n",
              "      <td>0.381650</td>\n",
              "      <td>0.680263</td>\n",
              "      <td>0.508765</td>\n",
              "      <td>0.105649</td>\n",
              "      <td>0.062002</td>\n",
              "      <td>-0.029668</td>\n",
              "      <td>0.025580</td>\n",
              "      <td>-0.082531</td>\n",
              "      <td>0.024617</td>\n",
              "      <td>0.024617</td>\n",
              "      <td>0.017484</td>\n",
              "      <td>-0.021381</td>\n",
              "      <td>-0.056407</td>\n",
              "      <td>-0.038904</td>\n",
              "      <td>-0.023175</td>\n",
              "      <td>0.009236</td>\n",
              "      <td>0.023457</td>\n",
              "      <td>0.052768</td>\n",
              "      <td>0.009604</td>\n",
              "      <td>-0.071963</td>\n",
              "      <td>0.085177</td>\n",
              "      <td>-0.032895</td>\n",
              "      <td>0.022381</td>\n",
              "    </tr>\n",
              "    <tr>\n",
              "      <th>2</th>\n",
              "      <td>0.230795</td>\n",
              "      <td>0.062043</td>\n",
              "      <td>0.192806</td>\n",
              "      <td>-0.265952</td>\n",
              "      <td>0.113509</td>\n",
              "      <td>0.106760</td>\n",
              "      <td>0.839548</td>\n",
              "      <td>-0.182732</td>\n",
              "      <td>-0.028144</td>\n",
              "      <td>0.108148</td>\n",
              "      <td>0.095061</td>\n",
              "      <td>0.007667</td>\n",
              "      <td>0.007667</td>\n",
              "      <td>-0.015298</td>\n",
              "      <td>0.003724</td>\n",
              "      <td>-0.001919</td>\n",
              "      <td>-0.030200</td>\n",
              "      <td>0.013386</td>\n",
              "      <td>0.002056</td>\n",
              "      <td>0.033450</td>\n",
              "      <td>-0.002974</td>\n",
              "      <td>0.072831</td>\n",
              "      <td>0.037996</td>\n",
              "      <td>-0.196118</td>\n",
              "      <td>0.049865</td>\n",
              "      <td>0.025533</td>\n",
              "    </tr>\n",
              "    <tr>\n",
              "      <th>3</th>\n",
              "      <td>-0.022981</td>\n",
              "      <td>0.149302</td>\n",
              "      <td>0.073165</td>\n",
              "      <td>-0.071525</td>\n",
              "      <td>0.641901</td>\n",
              "      <td>-0.659929</td>\n",
              "      <td>-0.126548</td>\n",
              "      <td>-0.185828</td>\n",
              "      <td>0.078681</td>\n",
              "      <td>0.101562</td>\n",
              "      <td>0.011903</td>\n",
              "      <td>-0.006318</td>\n",
              "      <td>-0.006318</td>\n",
              "      <td>0.040407</td>\n",
              "      <td>-0.005208</td>\n",
              "      <td>0.030060</td>\n",
              "      <td>0.082718</td>\n",
              "      <td>-0.051589</td>\n",
              "      <td>-0.004037</td>\n",
              "      <td>-0.060772</td>\n",
              "      <td>0.069904</td>\n",
              "      <td>0.031921</td>\n",
              "      <td>0.092113</td>\n",
              "      <td>-0.134238</td>\n",
              "      <td>-0.035462</td>\n",
              "      <td>-0.049498</td>\n",
              "    </tr>\n",
              "    <tr>\n",
              "      <th>4</th>\n",
              "      <td>0.108180</td>\n",
              "      <td>-0.379438</td>\n",
              "      <td>0.223844</td>\n",
              "      <td>-0.654582</td>\n",
              "      <td>0.217694</td>\n",
              "      <td>0.314505</td>\n",
              "      <td>-0.399156</td>\n",
              "      <td>-0.072806</td>\n",
              "      <td>-0.106184</td>\n",
              "      <td>0.086435</td>\n",
              "      <td>0.080966</td>\n",
              "      <td>0.011589</td>\n",
              "      <td>0.011589</td>\n",
              "      <td>-0.025190</td>\n",
              "      <td>0.018655</td>\n",
              "      <td>-0.004230</td>\n",
              "      <td>-0.106725</td>\n",
              "      <td>0.000030</td>\n",
              "      <td>0.000541</td>\n",
              "      <td>0.010156</td>\n",
              "      <td>0.010247</td>\n",
              "      <td>-0.008949</td>\n",
              "      <td>0.041796</td>\n",
              "      <td>-0.072836</td>\n",
              "      <td>0.091672</td>\n",
              "      <td>0.033245</td>\n",
              "    </tr>\n",
              "    <tr>\n",
              "      <th>5</th>\n",
              "      <td>0.064991</td>\n",
              "      <td>-0.352578</td>\n",
              "      <td>0.099776</td>\n",
              "      <td>0.272635</td>\n",
              "      <td>-0.153435</td>\n",
              "      <td>-0.070607</td>\n",
              "      <td>-0.023629</td>\n",
              "      <td>-0.192392</td>\n",
              "      <td>0.030646</td>\n",
              "      <td>0.580823</td>\n",
              "      <td>-0.408604</td>\n",
              "      <td>-0.010474</td>\n",
              "      <td>-0.010474</td>\n",
              "      <td>0.049179</td>\n",
              "      <td>0.066838</td>\n",
              "      <td>-0.076480</td>\n",
              "      <td>0.030475</td>\n",
              "      <td>-0.001144</td>\n",
              "      <td>0.000171</td>\n",
              "      <td>-0.143106</td>\n",
              "      <td>0.056059</td>\n",
              "      <td>0.064143</td>\n",
              "      <td>-0.117038</td>\n",
              "      <td>-0.191247</td>\n",
              "      <td>0.344605</td>\n",
              "      <td>-0.071980</td>\n",
              "    </tr>\n",
              "  </tbody>\n",
              "</table>\n",
              "</div>\n",
              "      <button class=\"colab-df-convert\" onclick=\"convertToInteractive('df-2d57130c-1788-459e-94b5-6c15e0184864')\"\n",
              "              title=\"Convert this dataframe to an interactive table.\"\n",
              "              style=\"display:none;\">\n",
              "        \n",
              "  <svg xmlns=\"http://www.w3.org/2000/svg\" height=\"24px\"viewBox=\"0 0 24 24\"\n",
              "       width=\"24px\">\n",
              "    <path d=\"M0 0h24v24H0V0z\" fill=\"none\"/>\n",
              "    <path d=\"M18.56 5.44l.94 2.06.94-2.06 2.06-.94-2.06-.94-.94-2.06-.94 2.06-2.06.94zm-11 1L8.5 8.5l.94-2.06 2.06-.94-2.06-.94L8.5 2.5l-.94 2.06-2.06.94zm10 10l.94 2.06.94-2.06 2.06-.94-2.06-.94-.94-2.06-.94 2.06-2.06.94z\"/><path d=\"M17.41 7.96l-1.37-1.37c-.4-.4-.92-.59-1.43-.59-.52 0-1.04.2-1.43.59L10.3 9.45l-7.72 7.72c-.78.78-.78 2.05 0 2.83L4 21.41c.39.39.9.59 1.41.59.51 0 1.02-.2 1.41-.59l7.78-7.78 2.81-2.81c.8-.78.8-2.07 0-2.86zM5.41 20L4 18.59l7.72-7.72 1.47 1.35L5.41 20z\"/>\n",
              "  </svg>\n",
              "      </button>\n",
              "      \n",
              "  <style>\n",
              "    .colab-df-container {\n",
              "      display:flex;\n",
              "      flex-wrap:wrap;\n",
              "      gap: 12px;\n",
              "    }\n",
              "\n",
              "    .colab-df-convert {\n",
              "      background-color: #E8F0FE;\n",
              "      border: none;\n",
              "      border-radius: 50%;\n",
              "      cursor: pointer;\n",
              "      display: none;\n",
              "      fill: #1967D2;\n",
              "      height: 32px;\n",
              "      padding: 0 0 0 0;\n",
              "      width: 32px;\n",
              "    }\n",
              "\n",
              "    .colab-df-convert:hover {\n",
              "      background-color: #E2EBFA;\n",
              "      box-shadow: 0px 1px 2px rgba(60, 64, 67, 0.3), 0px 1px 3px 1px rgba(60, 64, 67, 0.15);\n",
              "      fill: #174EA6;\n",
              "    }\n",
              "\n",
              "    [theme=dark] .colab-df-convert {\n",
              "      background-color: #3B4455;\n",
              "      fill: #D2E3FC;\n",
              "    }\n",
              "\n",
              "    [theme=dark] .colab-df-convert:hover {\n",
              "      background-color: #434B5C;\n",
              "      box-shadow: 0px 1px 3px 1px rgba(0, 0, 0, 0.15);\n",
              "      filter: drop-shadow(0px 1px 2px rgba(0, 0, 0, 0.3));\n",
              "      fill: #FFFFFF;\n",
              "    }\n",
              "  </style>\n",
              "\n",
              "      <script>\n",
              "        const buttonEl =\n",
              "          document.querySelector('#df-2d57130c-1788-459e-94b5-6c15e0184864 button.colab-df-convert');\n",
              "        buttonEl.style.display =\n",
              "          google.colab.kernel.accessAllowed ? 'block' : 'none';\n",
              "\n",
              "        async function convertToInteractive(key) {\n",
              "          const element = document.querySelector('#df-2d57130c-1788-459e-94b5-6c15e0184864');\n",
              "          const dataTable =\n",
              "            await google.colab.kernel.invokeFunction('convertToInteractive',\n",
              "                                                     [key], {});\n",
              "          if (!dataTable) return;\n",
              "\n",
              "          const docLinkHtml = 'Like what you see? Visit the ' +\n",
              "            '<a target=\"_blank\" href=https://colab.research.google.com/notebooks/data_table.ipynb>data table notebook</a>'\n",
              "            + ' to learn more about interactive tables.';\n",
              "          element.innerHTML = '';\n",
              "          dataTable['output_type'] = 'display_data';\n",
              "          await google.colab.output.renderOutput(dataTable, element);\n",
              "          const docLink = document.createElement('div');\n",
              "          docLink.innerHTML = docLinkHtml;\n",
              "          element.appendChild(docLink);\n",
              "        }\n",
              "      </script>\n",
              "    </div>\n",
              "  </div>\n",
              "  "
            ],
            "text/plain": [
              "         0         1         2   ...        23        24        25\n",
              "0 -0.469820 -0.450864 -0.477283  ...  0.151184 -0.002798 -0.040058\n",
              "1 -0.189690 -0.143455 -0.167612  ...  0.085177 -0.032895  0.022381\n",
              "2  0.230795  0.062043  0.192806  ... -0.196118  0.049865  0.025533\n",
              "3 -0.022981  0.149302  0.073165  ... -0.134238 -0.035462 -0.049498\n",
              "4  0.108180 -0.379438  0.223844  ... -0.072836  0.091672  0.033245\n",
              "5  0.064991 -0.352578  0.099776  ... -0.191247  0.344605 -0.071980\n",
              "\n",
              "[6 rows x 26 columns]"
            ]
          },
          "metadata": {},
          "execution_count": 23
        }
      ]
    },
    {
      "cell_type": "markdown",
      "source": [
        "Principal component analysis is used for reducing the dimensionality of datasets, by increasing interpretability while minimizing information loss. It does so by creating new uncorrelated variables that successively maximize variance.\n",
        "\n",
        "In the model run above, according to PCA the 2 most important variables are GDP per capita and social support. These results align well with the visualizations done above. Moreover, the variance of the first vector is 41.6 while the variance of the secondvector is 17.27, indicating that the first 2 variables account fot nearly 58% of the variation in the data."
      ],
      "metadata": {
        "id": "x6fQqsWdIykO"
      }
    },
    {
      "cell_type": "markdown",
      "source": [
        "## 3. Run at least three prediction models to try to predict World Happiness well. -- Discuss which models performed better and point out relevant hyper-parameter values for successful models.\n"
      ],
      "metadata": {
        "id": "b8oZLmDeFZes"
      }
    },
    {
      "cell_type": "markdown",
      "source": [
        "Model 1: Decision Tree "
      ],
      "metadata": {
        "id": "-45flRUvaj45"
      }
    },
    {
      "cell_type": "code",
      "source": [
        "from sklearn.tree import DecisionTreeClassifier\n",
        "\n",
        "tree = DecisionTreeClassifier(random_state=1)\n",
        "tree.fit(preprocessor(X_train), y_train_labels) \n",
        "tree.score(preprocessor(X_train), y_train_labels)\n",
        "\n",
        "print(\"Training set score: {:.4f}\".format(tree.score(preprocessor(X_train), y_train_labels)))\n",
        "print(\"Test set score: {:.4f}\".format(tree.score(preprocessor(X_train), y_train_labels)))"
      ],
      "metadata": {
        "id": "Ww_k_0-RbZQ3",
        "colab": {
          "base_uri": "https://localhost:8080/"
        },
        "outputId": "4acc7c1a-40a6-48ce-80be-47733a48e150"
      },
      "execution_count": 24,
      "outputs": [
        {
          "output_type": "stream",
          "name": "stdout",
          "text": [
            "Training set score: 1.0000\n",
            "Test set score: 1.0000\n"
          ]
        }
      ]
    },
    {
      "cell_type": "code",
      "source": [
        "# using Gridsearch CV  \n",
        "\n",
        "param_grid = {'max_depth' : [5, 6, 7, 8, 9]}\n",
        "\n",
        "grid = GridSearchCV(DecisionTreeClassifier(), param_grid=param_grid, cv=10)\n",
        "grid.fit(preprocessor(X_train), y_train_labels)\n",
        "\n",
        "print(\"best parameters: {}\".format(grid.best_params_))\n",
        "print(\"test-set score: {:.3f}\".format(grid.score(preprocessor(X_train), y_train_labels)))"
      ],
      "metadata": {
        "id": "h8mAyAFIcDok",
        "colab": {
          "base_uri": "https://localhost:8080/"
        },
        "outputId": "4f8a2706-2730-4e8e-8c77-c6d767c210f0"
      },
      "execution_count": 25,
      "outputs": [
        {
          "output_type": "stream",
          "name": "stdout",
          "text": [
            "best parameters: {'max_depth': 7}\n",
            "test-set score: 0.942\n"
          ]
        }
      ]
    },
    {
      "cell_type": "markdown",
      "source": [
        "Model 2: Support Vector Machines"
      ],
      "metadata": {
        "id": "xmPgaKCuecZI"
      }
    },
    {
      "cell_type": "code",
      "source": [
        "svc = SVC(kernel='linear', C=10) \n",
        "svc.fit(preprocessor(X_train), y_train_labels) \n",
        "svc.score(preprocessor(X_train), y_train_labels)\n",
        "\n",
        "print(\"Training set score: {:.3f}\".format(svc.score(preprocessor(X_train), y_train_labels)))\n",
        "print(\"Test set score: {:.3f}\".format(svc.score(preprocessor(X_train), y_train_labels)))\n",
        "print(\"SVM .coef_: {}\".format(svc.coef_))"
      ],
      "metadata": {
        "id": "l24kAtvieb2K",
        "colab": {
          "base_uri": "https://localhost:8080/"
        },
        "outputId": "48f2dc85-f699-4884-fcbc-fc3c9ab8314c"
      },
      "execution_count": 26,
      "outputs": [
        {
          "output_type": "stream",
          "name": "stdout",
          "text": [
            "Training set score: 0.904\n",
            "Test set score: 0.904\n",
            "SVM .coef_: [[-2.51053631 -0.90427841 -1.28518306 -0.72876943 -0.80788065 -0.05627842\n",
            "   2.86710409  0.         -1.15862735  1.13098788  0.02763946  0.\n",
            "   0.         -1.02882995 -0.12871091 -0.76668895 -1.15862735  0.\n",
            "   0.         -0.97271328  1.39887676  0.          1.7670417   0.\n",
            "   0.88965199  0.        ]\n",
            " [ 3.34951828  1.45159881  1.28919851  1.36555233 -0.12235892  1.17981253\n",
            "   3.75733563  0.10364672 -0.78048149 -0.17078471  0.84761948  0.\n",
            "   0.          3.35226256  0.          2.48101404 -0.78048149  2.07225795\n",
            "   0.          0.          0.05068127 -1.76655443 -1.63339456 -1.96861123\n",
            "  -1.80717411  0.        ]\n",
            " [-2.43773118 -1.48909609  0.54321131  0.25655624 -0.34681581 -0.16197724\n",
            "   1.05798872  0.         -0.50499263  0.07020495  0.43478769  0.\n",
            "   0.          0.          0.          0.83071044 -0.50499263  0.\n",
            "   0.          0.          0.11729242  0.          0.1882721   0.\n",
            "  -0.04708747 -0.58419486]\n",
            " [ 3.61349834 -0.01768124 -0.90575767  0.59561414 -0.06316636 -0.40493653\n",
            "  -1.06410414  0.09832508  0.         -0.64446978  0.5461447   0.\n",
            "   0.          3.32050514  0.          0.5461447   0.         -0.32157836\n",
            "   0.          0.         -1.18465979 -2.78031513  0.          0.41990344\n",
            "   0.          0.        ]\n",
            " [ 1.35318049  0.72651091  1.39476563  1.67751556 -0.24409941  0.1938273\n",
            "   0.58422336  0.          0.22742816 -0.42663367  0.19920551  0.\n",
            "   0.          0.          1.13286694  1.00076887  0.22742816  0.\n",
            "   0.          0.11538268 -0.72853365  0.         -0.91694605  0.\n",
            "  -0.83096696  0.        ]\n",
            " [-1.10765558  0.27316234  0.25100169  0.65944384 -1.08186162 -0.95191415\n",
            "  -0.46220365  0.         -0.46409703  1.24169553 -0.7775985   0.\n",
            "   0.          0.          0.          0.         -0.46409703  0.\n",
            "   0.         -0.00648277  2.88490119  0.          0.54332846  0.\n",
            "  -1.64320566 -1.31444418]\n",
            " [ 0.2656743   0.55150478  0.54837761  0.05045607 -0.13473294  0.2280383\n",
            "  -0.19392642 -0.29829781  0.37645736 -0.29397457  0.21581502  0.\n",
            "   0.          0.36847035  0.25417203  0.21581502  0.37645736 -0.17328419\n",
            "   0.          0.         -0.02859178 -1.12184343  0.         -0.12501362\n",
            "   0.23381827  0.        ]\n",
            " [-1.20832432 -0.48725877 -0.43849233 -0.74177434 -0.27919427 -0.0281228\n",
            "  -0.14737941  0.0425881  -0.24606054  0.15742837  0.04604407  0.\n",
            "   0.          0.          0.          0.         -0.24606054  0.\n",
            "   0.          0.          0.10174909  0.11041843  0.04604407  0.0425881\n",
            "  -0.05473915  0.        ]\n",
            " [ 0.25805954  0.28809853  0.12280578  0.66445431 -0.30698413 -0.52473744\n",
            "  -1.13068009  0.0450261   0.         -0.0450261   0.          0.\n",
            "   0.          0.          0.          0.          0.         -0.27268513\n",
            "   0.          0.         -0.86706432  0.41592924  0.          0.31771124\n",
            "   0.40610898  0.        ]\n",
            " [ 0.57449819  0.37858817  0.26477462  0.0329908  -0.18348001  0.30174721\n",
            "  -0.16760954 -0.15729958  0.30983528 -0.23984619  0.08731048  0.\n",
            "   0.          0.          0.          0.          0.30983528 -0.14513163\n",
            "   0.          0.          0.         -0.52649723  0.08731048 -0.01216795\n",
            "   0.28665104  0.        ]]\n"
          ]
        }
      ]
    },
    {
      "cell_type": "code",
      "source": [
        "# using Gridsearch CV\n",
        "\n",
        "param_grid = {'C': [1, 5, 10, 50],\n",
        "              'gamma': [0.0001, 0.001, 0.01, 1, 10, 100]}\n",
        "grid = GridSearchCV(svc, param_grid)\n",
        "\n",
        "%time grid.fit(preprocessor(X_train), y_train_labels)\n",
        "print(grid.best_params_)\n",
        "print(grid.best_estimator_)\n",
        "print(grid.best_score_)"
      ],
      "metadata": {
        "id": "uB2GHYS1gX4D",
        "colab": {
          "base_uri": "https://localhost:8080/"
        },
        "outputId": "b39d579f-8a85-4ffb-cda8-08465da31452"
      },
      "execution_count": 27,
      "outputs": [
        {
          "output_type": "stream",
          "name": "stdout",
          "text": [
            "CPU times: user 683 ms, sys: 3.22 ms, total: 686 ms\n",
            "Wall time: 1.01 s\n",
            "{'C': 1, 'gamma': 0.0001}\n",
            "SVC(C=1, gamma=0.0001, kernel='linear')\n",
            "0.7014285714285713\n"
          ]
        }
      ]
    },
    {
      "cell_type": "markdown",
      "source": [
        "Model 3: Logistic Regression "
      ],
      "metadata": {
        "id": "Bil3jvtvhofo"
      }
    },
    {
      "cell_type": "code",
      "source": [
        "param_grid = {'penalty': ['l1','l2'],\"C\":[.001, .01,.1,1,10,100],  'max_iter':[50, 100, 200, 500, 1000, 2000] }\n",
        "grid = GridSearchCV(LogisticRegression( solver='liblinear'), param_grid=param_grid, cv=15)\n",
        "grid.fit(preprocessor(X_train), y_train_labels)\n",
        "\n",
        "print(\"best mean cross-validation score: {:.3f}\".format(grid.best_score_))\n",
        "print(\"best parameters: {}\".format(grid.best_params_))\n",
        "print(\"test-set score: {:.3f}\".format(grid.score(preprocessor(X_train), y_train_labels)))"
      ],
      "metadata": {
        "colab": {
          "base_uri": "https://localhost:8080/"
        },
        "id": "YBcMWXUUhn53",
        "outputId": "66be43a8-369d-4852-ec29-17e0040315f9"
      },
      "execution_count": 28,
      "outputs": [
        {
          "output_type": "stream",
          "name": "stderr",
          "text": [
            "/usr/local/lib/python3.7/dist-packages/sklearn/svm/_base.py:1208: ConvergenceWarning: Liblinear failed to converge, increase the number of iterations.\n",
            "/usr/local/lib/python3.7/dist-packages/sklearn/svm/_base.py:1208: ConvergenceWarning: Liblinear failed to converge, increase the number of iterations.\n",
            "/usr/local/lib/python3.7/dist-packages/sklearn/svm/_base.py:1208: ConvergenceWarning: Liblinear failed to converge, increase the number of iterations.\n"
          ]
        },
        {
          "output_type": "stream",
          "name": "stdout",
          "text": [
            "best mean cross-validation score: 0.665\n",
            "best parameters: {'C': 0.1, 'max_iter': 50, 'penalty': 'l2'}\n",
            "test-set score: 0.750\n"
          ]
        }
      ]
    },
    {
      "cell_type": "markdown",
      "source": [
        "Model 4 "
      ],
      "metadata": {
        "id": "BiK8PD0n_7aB"
      }
    },
    {
      "cell_type": "code",
      "source": [
        "import numpy as np\n",
        "from tensorflow.keras.models import Sequential\n",
        "model = Sequential() # Define the architecture of you model using Sequential.\n",
        "from tensorflow.keras.layers import Dense\n",
        "from tensorflow.keras.wrappers.scikit_learn import KerasClassifier\n",
        "from tensorflow.keras.layers import Dense, Dropout, Activation\n",
        "from tensorflow.keras.optimizers import SGD\n",
        "\n",
        "def create_model(learn_rate=0.1, hiddennodes=1):\n",
        "\t# create model\n",
        "  model = Sequential()\n",
        "  model.add(Dense(hiddennodes, input_dim=26, activation='relu'))\n",
        "  model.add(Dense(20, activation='softmax'))\n",
        "  model.add(Dense(5, activation='relu'))    \n",
        "\t# Compile model\n",
        "  optimizer = SGD(learning_rate=learn_rate)\n",
        "  model.compile(loss='categorical_crossentropy', optimizer='sgd', metrics=['accuracy'])\n",
        "  return model\n",
        "\n",
        "#call model function in KerasClassifier\n",
        "model = KerasClassifier(build_fn=create_model, epochs=10, verbose=0)\n",
        "\n",
        "param_grid = [{ 'hiddennodes': (10, 20, 30),'learn_rate': (0.001, 0.01)}]# set dictionary using function this time\n",
        "\n",
        "#Using n_jobs=-1 to parallelize across available processors to speed it up\n",
        "grid = GridSearchCV(estimator= model, param_grid=param_grid)\n",
        "grid_result = grid.fit(preprocessor(X_train), y_train_labels)\n",
        "\n",
        "# summarize results\n",
        "print(\"Best score model: %f using %s\" % (grid_result.best_score_, grid_result.best_params_))"
      ],
      "metadata": {
        "colab": {
          "base_uri": "https://localhost:8080/"
        },
        "id": "tRy_YfjtCS3A",
        "outputId": "08e57895-03da-4e5a-a2da-f135a72ff9b5"
      },
      "execution_count": 29,
      "outputs": [
        {
          "output_type": "stream",
          "name": "stderr",
          "text": [
            "/usr/local/lib/python3.7/dist-packages/ipykernel_launcher.py:21: DeprecationWarning: KerasClassifier is deprecated, use Sci-Keras (https://github.com/adriangb/scikeras) instead. See https://www.adriangb.com/scikeras/stable/migration.html for help migrating.\n"
          ]
        },
        {
          "output_type": "stream",
          "name": "stdout",
          "text": [
            "WARNING:tensorflow:5 out of the last 5 calls to <function Model.make_test_function.<locals>.test_function at 0x7f35ca31c320> triggered tf.function retracing. Tracing is expensive and the excessive number of tracings could be due to (1) creating @tf.function repeatedly in a loop, (2) passing tensors with different shapes, (3) passing Python objects instead of tensors. For (1), please define your @tf.function outside of the loop. For (2), @tf.function has experimental_relax_shapes=True option that relaxes argument shapes that can avoid unnecessary retracing. For (3), please refer to https://www.tensorflow.org/guide/function#controlling_retracing and https://www.tensorflow.org/api_docs/python/tf/function for  more details.\n",
            "WARNING:tensorflow:6 out of the last 6 calls to <function Model.make_test_function.<locals>.test_function at 0x7f35ca4a1b90> triggered tf.function retracing. Tracing is expensive and the excessive number of tracings could be due to (1) creating @tf.function repeatedly in a loop, (2) passing tensors with different shapes, (3) passing Python objects instead of tensors. For (1), please define your @tf.function outside of the loop. For (2), @tf.function has experimental_relax_shapes=True option that relaxes argument shapes that can avoid unnecessary retracing. For (3), please refer to https://www.tensorflow.org/guide/function#controlling_retracing and https://www.tensorflow.org/api_docs/python/tf/function for  more details.\n",
            "Best score model: 0.231905 using {'hiddennodes': 30, 'learn_rate': 0.01}\n"
          ]
        }
      ]
    },
    {
      "cell_type": "markdown",
      "source": [
        "## 4. Submit your best model to the leader board for the World Happiness AI Model Share competition created for this class. Remember to use the instructions on the World Happiness Model Submission Guide notebook, including the specific code to load your train and tests sets."
      ],
      "metadata": {
        "id": "Z7sNvYTdFedC"
      }
    },
    {
      "cell_type": "markdown",
      "source": [
        "I submitted my best model onto the leaderboard, which is the tree model.\n",
        "\n",
        "\n"
      ],
      "metadata": {
        "id": "1nQV_xnIBvk2"
      }
    },
    {
      "cell_type": "code",
      "source": [
        "from sklearn.tree import DecisionTreeClassifier\n",
        "\n",
        "tree = DecisionTreeClassifier(random_state=1)\n",
        "tree.fit(preprocessor(X_train), y_train_labels) \n",
        "tree.score(preprocessor(X_train), y_train_labels)\n",
        "\n",
        "print(\"Training set score: {:.4f}\".format(tree.score(preprocessor(X_train), y_train_labels)))\n",
        "print(\"Test set score: {:.4f}\".format(tree.score(preprocessor(X_train), y_train_labels)))\n",
        "# using Gridsearch CV  \n",
        "\n",
        "param_grid = {'max_depth' : [5, 6, 7, 8, 9]}\n",
        "\n",
        "grid = GridSearchCV(DecisionTreeClassifier(), param_grid=param_grid, cv=10)\n",
        "grid.fit(preprocessor(X_train), y_train_labels)\n",
        "\n",
        "print(\"best parameters: {}\".format(grid.best_params_))\n",
        "print(\"test-set score: {:.3f}\".format(grid.score(preprocessor(X_train), y_train_labels)))"
      ],
      "metadata": {
        "colab": {
          "base_uri": "https://localhost:8080/"
        },
        "id": "igmxAxOLFljB",
        "outputId": "00dee5f8-9057-436e-86da-cc28f0cb4f0b"
      },
      "execution_count": 30,
      "outputs": [
        {
          "output_type": "stream",
          "name": "stdout",
          "text": [
            "Training set score: 1.0000\n",
            "Test set score: 1.0000\n",
            "best parameters: {'max_depth': 7}\n",
            "test-set score: 0.942\n"
          ]
        }
      ]
    }
  ]
}